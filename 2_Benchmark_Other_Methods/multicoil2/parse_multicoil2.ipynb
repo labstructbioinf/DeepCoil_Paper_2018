{
 "cells": [
  {
   "cell_type": "code",
   "execution_count": 1,
   "metadata": {},
   "outputs": [],
   "source": [
    "import pickle\n",
    "import pandas as pd\n",
    "import numpy as np"
   ]
  },
  {
   "cell_type": "code",
   "execution_count": 2,
   "metadata": {},
   "outputs": [],
   "source": [
    "id2seq = {}\n",
    "aa1 = \"ACDEFGHIKLMNPQRSTVWY\"\n",
    "from Bio import SeqIO\n",
    "for record in SeqIO.parse(\"/home/db/pdb/pdb_seqres_clean.txt\", \"fasta\"):\n",
    "    nonstd_present = False\n",
    "    for aa in str(record.seq):\n",
    "        if aa not in aa1:\n",
    "            nonstd_present = True\n",
    "            break\n",
    "    if not nonstd_present:\n",
    "        id2seq[record.id] = str(record.seq)"
   ]
  },
  {
   "cell_type": "code",
   "execution_count": 3,
   "metadata": {},
   "outputs": [],
   "source": [
    "def parse_multicoil2(fn):\n",
    "    f = open(fn)\n",
    "    data = f.readlines()\n",
    "    preds = []\n",
    "    seq = []\n",
    "    for i in range(3, len(data)):\n",
    "        line = data[i].rstrip()\n",
    "        seq.append(line.split()[1])\n",
    "        if float(line.split()[3]) >  0.5:\n",
    "            preds.append('1')\n",
    "        else:\n",
    "            preds.append('0')\n",
    "    return ''.join(preds)"
   ]
  },
  {
   "cell_type": "code",
   "execution_count": 4,
   "metadata": {},
   "outputs": [],
   "source": [
    "df = pickle.load(open('./../../1_Data_Preparation/out/pickle/data_all_74.p', 'rb'))"
   ]
  },
  {
   "cell_type": "code",
   "execution_count": 5,
   "metadata": {},
   "outputs": [],
   "source": [
    "entries = df.index.tolist()"
   ]
  },
  {
   "cell_type": "code",
   "execution_count": 7,
   "metadata": {},
   "outputs": [],
   "source": [
    "multicoil2_data = {}\n",
    "for entry in entries:\n",
    "    multicoil2_data[entry] = parse_multicoil2('results/%s.out' % entry)"
   ]
  },
  {
   "cell_type": "code",
   "execution_count": 8,
   "metadata": {},
   "outputs": [
    {
     "data": {
      "text/plain": [
       "(28939, 28939)"
      ]
     },
     "execution_count": 8,
     "metadata": {},
     "output_type": "execute_result"
    }
   ],
   "source": [
    "len(entries), len(multicoil2_data)"
   ]
  },
  {
   "cell_type": "code",
   "execution_count": 9,
   "metadata": {},
   "outputs": [],
   "source": [
    "df_multicoil2 = pd.DataFrame.from_dict(multicoil2_data, orient='index')\n",
    "df_multicoil2.columns = ['multicoil2_assignment']"
   ]
  },
  {
   "cell_type": "code",
   "execution_count": 10,
   "metadata": {},
   "outputs": [],
   "source": [
    "df_multicoil2.to_csv('./../../1_Data_Preparation/out/csv/multicoil2_all_74.csv')\n",
    "df_multicoil2.to_pickle(open('./../../1_Data_Preparation/out/pickle/multicoil2_all_74.p', 'wb'))"
   ]
  },
  {
   "cell_type": "code",
   "execution_count": null,
   "metadata": {},
   "outputs": [],
   "source": []
  }
 ],
 "metadata": {
  "kernelspec": {
   "display_name": "Python 3",
   "language": "python",
   "name": "python3"
  },
  "language_info": {
   "codemirror_mode": {
    "name": "ipython",
    "version": 3
   },
   "file_extension": ".py",
   "mimetype": "text/x-python",
   "name": "python",
   "nbconvert_exporter": "python",
   "pygments_lexer": "ipython3",
   "version": "3.5.2"
  }
 },
 "nbformat": 4,
 "nbformat_minor": 2
}
