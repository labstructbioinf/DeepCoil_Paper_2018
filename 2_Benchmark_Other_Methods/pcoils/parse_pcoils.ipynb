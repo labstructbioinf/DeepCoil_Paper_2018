{
 "cells": [
  {
   "cell_type": "code",
   "execution_count": 1,
   "metadata": {},
   "outputs": [],
   "source": [
    "import pickle\n",
    "import pandas as pd"
   ]
  },
  {
   "cell_type": "markdown",
   "metadata": {},
   "source": [
    "#### Identificator to sequence mapping"
   ]
  },
  {
   "cell_type": "code",
   "execution_count": 2,
   "metadata": {},
   "outputs": [],
   "source": [
    "id2seq = {}\n",
    "aa1 = \"ACDEFGHIKLMNPQRSTVWY\"\n",
    "from Bio import SeqIO\n",
    "for record in SeqIO.parse(\"/home/db/pdb/pdb_seqres_clean.txt\", \"fasta\"):\n",
    "    nonstd_present = False\n",
    "    for aa in str(record.seq):\n",
    "        if aa not in aa1:\n",
    "            nonstd_present = True\n",
    "            break\n",
    "    if not nonstd_present:\n",
    "        id2seq[record.id] = str(record.seq)"
   ]
  },
  {
   "cell_type": "markdown",
   "metadata": {},
   "source": [
    "#### Pcoils output parser"
   ]
  },
  {
   "cell_type": "code",
   "execution_count": 3,
   "metadata": {},
   "outputs": [],
   "source": [
    "def parse_pcoils(fn):\n",
    "    f = open(fn)\n",
    "    data = f.readlines()\n",
    "    assignment = []\n",
    "    seq = []\n",
    "    for i in range(2, len(data)):\n",
    "        line = data[i].rstrip()\n",
    "        results = line.split()\n",
    "        if float(results[4]) > 0.5:\n",
    "            assignment.append('1')\n",
    "        else:\n",
    "            assignment.append('0')\n",
    "        seq.append(results[1])\n",
    "    return(''.join(seq), ''.join(assignment))"
   ]
  },
  {
   "cell_type": "markdown",
   "metadata": {},
   "source": [
    "#### Get coiled coil assignments for 3 different window variants (14, 21, 28)"
   ]
  },
  {
   "cell_type": "code",
   "execution_count": 4,
   "metadata": {},
   "outputs": [],
   "source": [
    "df = pickle.load(open('./../../1_Data_Preparation/out/pickle/data_all_74.p', 'rb'))"
   ]
  },
  {
   "cell_type": "code",
   "execution_count": 5,
   "metadata": {},
   "outputs": [],
   "source": [
    "entries = set(df.index.tolist())"
   ]
  },
  {
   "cell_type": "code",
   "execution_count": 6,
   "metadata": {},
   "outputs": [],
   "source": [
    "variants = ['14', '21', '28']\n",
    "pcoils_results = {}\n",
    "for entry in entries:\n",
    "    results = []\n",
    "    for variant in variants:\n",
    "        result = parse_pcoils('results/%s.coils_n%s' % (entry, variant))\n",
    "        assert result[0] == id2seq[entry]\n",
    "        results.append(result[1])\n",
    "        if '1' in result[1]:\n",
    "            results.append(1)\n",
    "        else:\n",
    "            results.append(0)\n",
    "    pcoils_results[entry] = results"
   ]
  },
  {
   "cell_type": "markdown",
   "metadata": {},
   "source": [
    "#### Check for missing entries"
   ]
  },
  {
   "cell_type": "code",
   "execution_count": 7,
   "metadata": {},
   "outputs": [
    {
     "data": {
      "text/plain": [
       "(28938, 28938)"
      ]
     },
     "execution_count": 7,
     "metadata": {},
     "output_type": "execute_result"
    }
   ],
   "source": [
    "len(entries), len(pcoils_results)"
   ]
  },
  {
   "cell_type": "markdown",
   "metadata": {},
   "source": [
    "#### Create pandas"
   ]
  },
  {
   "cell_type": "code",
   "execution_count": 8,
   "metadata": {},
   "outputs": [],
   "source": [
    "df = pd.DataFrame.from_dict(pcoils_results, orient='index')\n",
    "df.columns = ['pcoils_14_assignment', 'pcoils_14_cc',\n",
    "              'pcoils_21_assignment', 'pcoils_21_cc',\n",
    "             'pcoils_28_assignment', 'pcoils_28_cc']"
   ]
  },
  {
   "cell_type": "markdown",
   "metadata": {},
   "source": [
    "#### Save data"
   ]
  },
  {
   "cell_type": "code",
   "execution_count": 9,
   "metadata": {},
   "outputs": [],
   "source": [
    "df.to_csv('./../../1_Data_Preparation/out/csv/pcoils_all_74.csv')\n",
    "df.to_pickle(open('./../../1_Data_Preparation/out/pickle/pcoils_all_74.p', 'wb'))"
   ]
  },
  {
   "cell_type": "code",
   "execution_count": null,
   "metadata": {},
   "outputs": [],
   "source": []
  }
 ],
 "metadata": {
  "kernelspec": {
   "display_name": "Python 3",
   "language": "python",
   "name": "python3"
  },
  "language_info": {
   "codemirror_mode": {
    "name": "ipython",
    "version": 3
   },
   "file_extension": ".py",
   "mimetype": "text/x-python",
   "name": "python",
   "nbconvert_exporter": "python",
   "pygments_lexer": "ipython3",
   "version": "3.5.2"
  }
 },
 "nbformat": 4,
 "nbformat_minor": 2
}
