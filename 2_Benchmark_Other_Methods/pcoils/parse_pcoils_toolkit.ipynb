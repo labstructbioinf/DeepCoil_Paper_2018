{
 "cells": [
  {
   "cell_type": "code",
   "execution_count": 1,
   "metadata": {},
   "outputs": [],
   "source": [
    "import pickle\n",
    "import pandas as pd"
   ]
  },
  {
   "cell_type": "code",
   "execution_count": 2,
   "metadata": {},
   "outputs": [],
   "source": [
    "def parse_pcoils_toolkit(fn):\n",
    "    f = open(fn)\n",
    "    data = f.readlines()\n",
    "    assignment_14 = []\n",
    "    assignment_21 = []\n",
    "    assignment_28 = []\n",
    "    seq = []\n",
    "    for i in range(4, len(data)):\n",
    "        line = data[i].rstrip()\n",
    "        results = line.split()\n",
    "        if len(results) > 0:\n",
    "            if float(results[3]) > 0.5:\n",
    "                assignment_14.append('1')\n",
    "            else:\n",
    "                assignment_14.append('0')\n",
    "            if float(results[5]) > 0.5:\n",
    "                assignment_21.append('1')\n",
    "            else:\n",
    "                assignment_21.append('0')\n",
    "            if float(results[7]) > 0.5:\n",
    "                assignment_28.append('1')\n",
    "            else:\n",
    "                assignment_28.append('0')\n",
    "            seq.append(results[1])\n",
    "    return(''.join(seq), ''.join(assignment_14), ''.join(assignment_21),''.join(assignment_28))"
   ]
  },
  {
   "cell_type": "code",
   "execution_count": 3,
   "metadata": {},
   "outputs": [],
   "source": [
    "df = pickle.load(open('./../../3_Train_Test_Split/out/test_data.p', 'rb'))"
   ]
  },
  {
   "cell_type": "code",
   "execution_count": 4,
   "metadata": {},
   "outputs": [],
   "source": [
    "entries = set(df.index.tolist())"
   ]
  },
  {
   "cell_type": "code",
   "execution_count": 5,
   "metadata": {},
   "outputs": [],
   "source": [
    "pcoils_results = {}\n",
    "for entry in entries:\n",
    "    results = []\n",
    "    result = parse_pcoils_toolkit('pcoils_toolkit/%s.numerical' % (entry))\n",
    "    for i in range(1, len(result)):\n",
    "        results.append(result[i])\n",
    "    pcoils_results[entry] = results"
   ]
  },
  {
   "cell_type": "code",
   "execution_count": 6,
   "metadata": {},
   "outputs": [],
   "source": [
    "df_test = pd.DataFrame.from_dict(pcoils_results, orient='index')\n",
    "df_test.columns = ['pcoils_14_assignment_toolkit',\n",
    "              'pcoils_21_assignment_toolkit',\n",
    "             'pcoils_28_assignment_toolkit',]"
   ]
  },
  {
   "cell_type": "code",
   "execution_count": 7,
   "metadata": {},
   "outputs": [],
   "source": [
    "df_test.to_pickle('pcoils_test_update.p')"
   ]
  },
  {
   "cell_type": "code",
   "execution_count": 8,
   "metadata": {},
   "outputs": [
    {
     "data": {
      "text/plain": [
       "(1193, 1193)"
      ]
     },
     "execution_count": 8,
     "metadata": {},
     "output_type": "execute_result"
    }
   ],
   "source": [
    "len(df), len(df_test)"
   ]
  },
  {
   "cell_type": "code",
   "execution_count": 9,
   "metadata": {},
   "outputs": [],
   "source": [
    "df = pickle.load(open('./../../3_Train_Test_Split/out/li2016.p', 'rb'))\n",
    "entries = set(df.index.tolist())"
   ]
  },
  {
   "cell_type": "code",
   "execution_count": 10,
   "metadata": {},
   "outputs": [],
   "source": [
    "pcoils_results = {}\n",
    "for entry in entries:\n",
    "    results = []\n",
    "    result = parse_pcoils_toolkit('pcoils_toolkit/%s.numerical' % (entry))\n",
    "    for i in range(1, len(result)):\n",
    "        results.append(result[i])\n",
    "    pcoils_results[entry] = results"
   ]
  },
  {
   "cell_type": "code",
   "execution_count": 11,
   "metadata": {},
   "outputs": [],
   "source": [
    "df_test = pd.DataFrame.from_dict(pcoils_results, orient='index')\n",
    "df_test.columns = ['pcoils_14_assignment_toolkit',\n",
    "              'pcoils_21_assignment_toolkit',\n",
    "             'pcoils_28_assignment_toolkit',]"
   ]
  },
  {
   "cell_type": "code",
   "execution_count": 12,
   "metadata": {},
   "outputs": [],
   "source": [
    "df_test.to_pickle('pcoils_li2016_update.p')"
   ]
  },
  {
   "cell_type": "code",
   "execution_count": 13,
   "metadata": {},
   "outputs": [
    {
     "data": {
      "text/plain": [
       "(518, 518)"
      ]
     },
     "execution_count": 13,
     "metadata": {},
     "output_type": "execute_result"
    }
   ],
   "source": [
    "len(df), len(df_test)"
   ]
  }
 ],
 "metadata": {
  "kernelspec": {
   "display_name": "Python 3",
   "language": "python",
   "name": "python3"
  },
  "language_info": {
   "codemirror_mode": {
    "name": "ipython",
    "version": 3
   },
   "file_extension": ".py",
   "mimetype": "text/x-python",
   "name": "python",
   "nbconvert_exporter": "python",
   "pygments_lexer": "ipython3",
   "version": "3.5.2"
  }
 },
 "nbformat": 4,
 "nbformat_minor": 2
}
