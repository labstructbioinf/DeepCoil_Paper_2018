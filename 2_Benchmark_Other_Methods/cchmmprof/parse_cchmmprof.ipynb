{
 "cells": [
  {
   "cell_type": "code",
   "execution_count": 1,
   "metadata": {},
   "outputs": [],
   "source": [
    "import pickle\n",
    "import pandas as pd"
   ]
  },
  {
   "cell_type": "markdown",
   "metadata": {},
   "source": [
    "#### Identificator to sequence mapping"
   ]
  },
  {
   "cell_type": "code",
   "execution_count": 2,
   "metadata": {},
   "outputs": [],
   "source": [
    "id2seq = {}\n",
    "aa1 = \"ACDEFGHIKLMNPQRSTVWY\"\n",
    "from Bio import SeqIO\n",
    "for record in SeqIO.parse(\"/home/db/pdb/pdb_seqres_clean.txt\", \"fasta\"):\n",
    "    nonstd_present = False\n",
    "    for aa in str(record.seq):\n",
    "        if aa not in aa1:\n",
    "            nonstd_present = True\n",
    "            break\n",
    "    if not nonstd_present:\n",
    "        id2seq[record.id] = str(record.seq)"
   ]
  },
  {
   "cell_type": "markdown",
   "metadata": {},
   "source": [
    "#### Get cchmmprof assignments"
   ]
  },
  {
   "cell_type": "code",
   "execution_count": 3,
   "metadata": {},
   "outputs": [],
   "source": [
    "df = pickle.load(open('./../../1_Data_Preparation/out/pickle/data_all_74.p', 'rb'))"
   ]
  },
  {
   "cell_type": "code",
   "execution_count": 4,
   "metadata": {},
   "outputs": [],
   "source": [
    "entries = set(df.index.tolist())"
   ]
  },
  {
   "cell_type": "code",
   "execution_count": 5,
   "metadata": {},
   "outputs": [],
   "source": [
    "cchmmpred_data = {}\n",
    "for entry in entries:\n",
    "    f = open('results/%s.profile' % entry, 'r')\n",
    "    data = f.readlines()\n",
    "    try:\n",
    "        prob = data[0].rstrip().split(' ')[7]\n",
    "        cc_prob = 0\n",
    "        if float(prob) >= 0.5:\n",
    "            cc_prob = 1\n",
    "        assignment = data[1][5:].rstrip()\n",
    "        assignment = assignment.replace('H', '1')\n",
    "        assignment = assignment.replace('.', '0')\n",
    "        assert(len(assignment) == len(id2seq[entry]))\n",
    "        cchmmpred_data[entry] = [assignment, cc_prob]\n",
    "    except IndexError:\n",
    "        print(\"Error: %s\" % (entry))"
   ]
  },
  {
   "cell_type": "markdown",
   "metadata": {},
   "source": [
    "#### Check everything's fine"
   ]
  },
  {
   "cell_type": "code",
   "execution_count": 6,
   "metadata": {},
   "outputs": [
    {
     "data": {
      "text/plain": [
       "(28938, 28938)"
      ]
     },
     "execution_count": 6,
     "metadata": {},
     "output_type": "execute_result"
    }
   ],
   "source": [
    "len(entries), len(cchmmpred_data)"
   ]
  },
  {
   "cell_type": "markdown",
   "metadata": {},
   "source": [
    "#### Create pandas"
   ]
  },
  {
   "cell_type": "code",
   "execution_count": 7,
   "metadata": {},
   "outputs": [],
   "source": [
    "df = pd.DataFrame.from_dict(cchmmpred_data, orient='index')\n",
    "df.columns = ['cchmmprof_assignment', 'cchmmprof_cc']"
   ]
  },
  {
   "cell_type": "markdown",
   "metadata": {},
   "source": [
    "#### Save data"
   ]
  },
  {
   "cell_type": "code",
   "execution_count": 8,
   "metadata": {},
   "outputs": [],
   "source": [
    "df.to_csv('./../../1_Data_Preparation/out/csv/cchmmprof_all_74.csv')\n",
    "df.to_pickle(open('./../../1_Data_Preparation/out/pickle/cchmmprof_all_74.p', 'wb'))"
   ]
  },
  {
   "cell_type": "code",
   "execution_count": null,
   "metadata": {},
   "outputs": [],
   "source": []
  }
 ],
 "metadata": {
  "kernelspec": {
   "display_name": "Python 3",
   "language": "python",
   "name": "python3"
  },
  "language_info": {
   "codemirror_mode": {
    "name": "ipython",
    "version": 3
   },
   "file_extension": ".py",
   "mimetype": "text/x-python",
   "name": "python",
   "nbconvert_exporter": "python",
   "pygments_lexer": "ipython3",
   "version": "3.5.2"
  }
 },
 "nbformat": 4,
 "nbformat_minor": 2
}
