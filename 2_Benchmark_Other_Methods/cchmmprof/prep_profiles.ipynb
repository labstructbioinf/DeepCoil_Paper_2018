{
 "cells": [
  {
   "cell_type": "code",
   "execution_count": 1,
   "metadata": {},
   "outputs": [],
   "source": [
    "id2seq = {}\n",
    "aa1 = \"ACDEFGHIKLMNPQRSTVWY\"\n",
    "from Bio import SeqIO\n",
    "for record in SeqIO.parse(\"/home/db/pdb/pdb_seqres_clean.txt\", \"fasta\"):\n",
    "    nonstd_present = False\n",
    "    for aa in str(record.seq):\n",
    "        if aa not in aa1:\n",
    "            nonstd_present = True\n",
    "            break\n",
    "    if not nonstd_present:\n",
    "        id2seq[record.id] = str(record.seq)"
   ]
  },
  {
   "cell_type": "code",
   "execution_count": 2,
   "metadata": {},
   "outputs": [],
   "source": [
    "import pickle"
   ]
  },
  {
   "cell_type": "code",
   "execution_count": 3,
   "metadata": {},
   "outputs": [],
   "source": [
    "df = pickle.load(open('./../../1_Data_Preparation/out/pickle/data_all_74.p', 'rb'))"
   ]
  },
  {
   "cell_type": "code",
   "execution_count": 4,
   "metadata": {},
   "outputs": [],
   "source": [
    "entries = set(df.index.tolist())"
   ]
  },
  {
   "cell_type": "code",
   "execution_count": 5,
   "metadata": {},
   "outputs": [],
   "source": [
    "import os"
   ]
  },
  {
   "cell_type": "code",
   "execution_count": 6,
   "metadata": {},
   "outputs": [],
   "source": [
    "from pssm_to_profile import pssm_to_profile"
   ]
  },
  {
   "cell_type": "markdown",
   "metadata": {},
   "source": [
    "#### Get profiles"
   ]
  },
  {
   "cell_type": "code",
   "execution_count": 7,
   "metadata": {},
   "outputs": [],
   "source": [
    "for entry in entries:\n",
    "    pssm_to_profile('/home/db/psiblast/PSSM_3_IT/%s.pssm' % entry, id2seq[entry], out='in_profiles/%s.profile' % entry)"
   ]
  },
  {
   "cell_type": "markdown",
   "metadata": {},
   "source": [
    "#### Check everything's fine"
   ]
  },
  {
   "cell_type": "code",
   "execution_count": 8,
   "metadata": {},
   "outputs": [],
   "source": [
    "for entry in entries:\n",
    "    assert os.path.isfile('in_profiles/%s.profile' % (entry)) == True"
   ]
  }
 ],
 "metadata": {
  "kernelspec": {
   "display_name": "Python 3",
   "language": "python",
   "name": "python3"
  },
  "language_info": {
   "codemirror_mode": {
    "name": "ipython",
    "version": 3
   },
   "file_extension": ".py",
   "mimetype": "text/x-python",
   "name": "python",
   "nbconvert_exporter": "python",
   "pygments_lexer": "ipython3",
   "version": "3.5.2"
  }
 },
 "nbformat": 4,
 "nbformat_minor": 2
}
