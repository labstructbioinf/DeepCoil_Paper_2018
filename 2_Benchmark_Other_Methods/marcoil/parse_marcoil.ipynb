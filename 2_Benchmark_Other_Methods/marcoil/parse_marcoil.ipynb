{
 "cells": [
  {
   "cell_type": "code",
   "execution_count": 1,
   "metadata": {},
   "outputs": [],
   "source": [
    "import pickle\n",
    "import pandas as pd\n",
    "import numpy as np"
   ]
  },
  {
   "cell_type": "markdown",
   "metadata": {},
   "source": [
    "#### Identificator to sequence mapping"
   ]
  },
  {
   "cell_type": "code",
   "execution_count": 2,
   "metadata": {},
   "outputs": [],
   "source": [
    "id2seq = {}\n",
    "aa1 = \"ACDEFGHIKLMNPQRSTVWY\"\n",
    "from Bio import SeqIO\n",
    "for record in SeqIO.parse(\"/home/db/pdb/pdb_seqres_clean.txt\", \"fasta\"):\n",
    "    nonstd_present = False\n",
    "    for aa in str(record.seq):\n",
    "        if aa not in aa1:\n",
    "            nonstd_present = True\n",
    "            break\n",
    "    if not nonstd_present:\n",
    "        id2seq[record.id] = str(record.seq)"
   ]
  },
  {
   "cell_type": "markdown",
   "metadata": {},
   "source": [
    "#### Marcoil output parser"
   ]
  },
  {
   "cell_type": "code",
   "execution_count": 3,
   "metadata": {},
   "outputs": [],
   "source": [
    "def parse_marcoil(fn):\n",
    "    f = open(fn)\n",
    "    data = f.readlines()\n",
    "    for i in range(0, len(data)):\n",
    "        line = data[i].rstrip()\n",
    "        if 'cc-probability in percent and best heptad phase' in line:\n",
    "            seq = []\n",
    "            probs = []\n",
    "            j = i+1\n",
    "            while data[j].rstrip() != '':\n",
    "                line2 = data[j].rstrip()\n",
    "                data2 = line2.split()\n",
    "                if len(data2) == 4:\n",
    "                    seq.append(data2[1])\n",
    "                    probs.append(float(data2[2]))\n",
    "                j += 1\n",
    "            return(''.join(seq), probs)"
   ]
  },
  {
   "cell_type": "markdown",
   "metadata": {},
   "source": [
    "#### Get coiled coil assignments for 3 different probability cutoffs (0.1, 0.5, 0.9)"
   ]
  },
  {
   "cell_type": "code",
   "execution_count": 4,
   "metadata": {},
   "outputs": [],
   "source": [
    "df = pickle.load(open('./../../1_Data_Preparation/out/pickle/data_all_74.p', 'rb'))"
   ]
  },
  {
   "cell_type": "code",
   "execution_count": 5,
   "metadata": {},
   "outputs": [],
   "source": [
    "entries = df.index.tolist()"
   ]
  },
  {
   "cell_type": "code",
   "execution_count": 6,
   "metadata": {},
   "outputs": [],
   "source": [
    "marcoil_data = {}\n",
    "problist = [10, 50, 90]\n",
    "\n",
    "for entry in entries:\n",
    "    seq = id2seq[entry]\n",
    "    data = parse_marcoil('results/%s.problist' % entry)\n",
    "    assert data[0] == seq\n",
    "    probs = np.array(data[1], dtype=float)\n",
    "    results = []\n",
    "    for prob in problist:\n",
    "        temp_arr = np.array(probs, copy=True)\n",
    "        temp_arr[temp_arr < prob] = 0\n",
    "        temp_arr[temp_arr >= prob] = 1\n",
    "        marcoil_assignment = ''.join(str(int(j)) for j in temp_arr)\n",
    "        assert len(marcoil_assignment) == len(seq)\n",
    "        if '1' in marcoil_assignment:\n",
    "            results.append(marcoil_assignment)\n",
    "            results.append(1)\n",
    "        else:\n",
    "            results.append(marcoil_assignment)\n",
    "            results.append(0)\n",
    "    marcoil_data[entry] = results"
   ]
  },
  {
   "cell_type": "markdown",
   "metadata": {},
   "source": [
    "#### Check for missing entries"
   ]
  },
  {
   "cell_type": "code",
   "execution_count": 7,
   "metadata": {},
   "outputs": [
    {
     "data": {
      "text/plain": [
       "(28938, 28938)"
      ]
     },
     "execution_count": 7,
     "metadata": {},
     "output_type": "execute_result"
    }
   ],
   "source": [
    "len(marcoil_data), len(entries)"
   ]
  },
  {
   "cell_type": "markdown",
   "metadata": {},
   "source": [
    "#### Create pandas"
   ]
  },
  {
   "cell_type": "code",
   "execution_count": 8,
   "metadata": {},
   "outputs": [],
   "source": [
    "df = pd.DataFrame.from_dict(marcoil_data, orient='index')\n",
    "df.columns = ['marcoil_10_assignment', 'marcoil_10_cc',\n",
    "             'marcoil_50_assignment', 'marcoil_50_cc',\n",
    "             'marcoil_90_assignment', 'marcoil_90_cc']"
   ]
  },
  {
   "cell_type": "markdown",
   "metadata": {},
   "source": [
    "#### Save data"
   ]
  },
  {
   "cell_type": "code",
   "execution_count": 9,
   "metadata": {},
   "outputs": [],
   "source": [
    "df.to_csv('./../../1_Data_Preparation/out/csv/marcoil_all_74.csv')\n",
    "df.to_pickle(open('./../../1_Data_Preparation/out/pickle/marcoil_all_74.p', 'wb'))"
   ]
  }
 ],
 "metadata": {
  "kernelspec": {
   "display_name": "Python 3",
   "language": "python",
   "name": "python3"
  },
  "language_info": {
   "codemirror_mode": {
    "name": "ipython",
    "version": 3
   },
   "file_extension": ".py",
   "mimetype": "text/x-python",
   "name": "python",
   "nbconvert_exporter": "python",
   "pygments_lexer": "ipython3",
   "version": "3.5.2"
  }
 },
 "nbformat": 4,
 "nbformat_minor": 2
}
