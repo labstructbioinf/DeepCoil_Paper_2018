{
 "cells": [
  {
   "cell_type": "markdown",
   "metadata": {},
   "source": [
    "### Parse data from pdb50"
   ]
  },
  {
   "cell_type": "markdown",
   "metadata": {},
   "source": [
    "Output is a dict with cluster number as key and values corresponding to the entries in this clusters."
   ]
  },
  {
   "cell_type": "code",
   "execution_count": 1,
   "metadata": {},
   "outputs": [],
   "source": [
    "blast50 = {}\n",
    "with open('in/bc-50.out') as f:\n",
    "    c = 0\n",
    "    for line in f:\n",
    "        c += 1\n",
    "        line = line.rstrip()\n",
    "        clean_data = []\n",
    "        data = line.split(' ')\n",
    "        for entry in data:\n",
    "            pdb, chain = entry.split('_')\n",
    "            pdb = pdb.lower()\n",
    "            ident = '%s_%s' % (pdb, chain)\n",
    "            clean_data.append(ident)\n",
    "        blast50[c] = clean_data"
   ]
  },
  {
   "cell_type": "markdown",
   "metadata": {},
   "source": [
    "### Match pdb50 identifiers with sequences based on pdb_seqres"
   ]
  },
  {
   "cell_type": "markdown",
   "metadata": {},
   "source": [
    "Output is a dict with entry identificators as keys and sequences as values."
   ]
  },
  {
   "cell_type": "code",
   "execution_count": 2,
   "metadata": {},
   "outputs": [],
   "source": [
    "blast50_flatened = set()\n",
    "for entries in blast50.values():\n",
    "    for entry in entries:\n",
    "        blast50_flatened.add(entry)"
   ]
  },
  {
   "cell_type": "code",
   "execution_count": 3,
   "metadata": {},
   "outputs": [],
   "source": [
    "id2seq = {}\n",
    "aa1 = \"ACDEFGHIKLMNPQRSTVWY\"\n",
    "from Bio import SeqIO\n",
    "for record in SeqIO.parse(\"/home/db/pdb/pdb_seqres_clean.txt\", \"fasta\"):\n",
    "    nonstd_present = False\n",
    "    for aa in str(record.seq):\n",
    "        if aa not in aa1:\n",
    "            nonstd_present = True\n",
    "            break\n",
    "    if not nonstd_present and record.id in blast50_flatened:\n",
    "        id2seq[record.id] = str(record.seq)\n",
    "            "
   ]
  },
  {
   "cell_type": "code",
   "execution_count": 4,
   "metadata": {},
   "outputs": [
    {
     "data": {
      "text/plain": [
       "(395018, 294131)"
      ]
     },
     "execution_count": 4,
     "metadata": {},
     "output_type": "execute_result"
    }
   ],
   "source": [
    "len(blast50_flatened), len(id2seq)"
   ]
  },
  {
   "cell_type": "markdown",
   "metadata": {},
   "source": [
    "# Get dataset"
   ]
  },
  {
   "cell_type": "markdown",
   "metadata": {},
   "source": [
    "### Load Socket data from PDB Biounit run"
   ]
  },
  {
   "cell_type": "markdown",
   "metadata": {},
   "source": [
    "cc_biounit_74_kih.p file was generated with the socket.py script"
   ]
  },
  {
   "cell_type": "code",
   "execution_count": 5,
   "metadata": {},
   "outputs": [],
   "source": [
    "import pickle\n",
    "ccdata = pickle.load(open('in/cc_biounit_74_kih.p', 'rb'))"
   ]
  },
  {
   "cell_type": "markdown",
   "metadata": {},
   "source": [
    "Data format example"
   ]
  },
  {
   "cell_type": "code",
   "execution_count": 6,
   "metadata": {},
   "outputs": [
    {
     "data": {
      "text/plain": [
       "([{'heptads': ['--------------------------', '-------------------------'],\n",
       "   'indices': [('0', '328', '345', 'A'), ('1', '359', '380', 'A')],\n",
       "   'oligomerization': '2',\n",
       "   'orientation': 'antiparallel',\n",
       "   'sequences': ['LYNLVAQDYALTDTI', 'FVKQGRELARQQFLVRWHI']}],\n",
       " [['0', '1', 'antiparallel']])"
      ]
     },
     "execution_count": 6,
     "metadata": {},
     "output_type": "execute_result"
    }
   ],
   "source": [
    "ccdata['2caz']"
   ]
  },
  {
   "cell_type": "markdown",
   "metadata": {},
   "source": [
    "### Get positive and negative sets - check if <font color=\"red\">any</font> entry from each cluster contains coiled coil domain"
   ]
  },
  {
   "cell_type": "markdown",
   "metadata": {},
   "source": [
    "This part iterates through entries in each pdb50 cluster to find a sequence containing a coiled coil domain based on the socket assignment. If CC domain is not found it returns the first entry in the cluster. Returned assignment is 0/1 (1 being CC present) and it's length is equal to the length of the sequence."
   ]
  },
  {
   "cell_type": "code",
   "execution_count": 7,
   "metadata": {},
   "outputs": [],
   "source": [
    "import re\n",
    "import os\n",
    "\n",
    "cc_allentries = {} ## All CC entries\n",
    "nocc_allentries = {} ## All non-CC entries\n",
    "c = 0\n",
    "for entries in blast50.values():\n",
    "    try:\n",
    "        proper_entries = []\n",
    "        cc_present = False\n",
    "        for entry in entries:\n",
    "            if entry in id2seq.keys():\n",
    "                seq = id2seq[entry]\n",
    "                if len(seq) > 30 and len(seq) < 1000: ## Only sequences of reasonable length\n",
    "                    proper_entries.append(entry)\n",
    "                    assignment = len(seq)*'0' ## CC assignment\n",
    "                    pdb, chain = entry.split('_')\n",
    "                    if pdb in ccdata.keys(): \n",
    "                        data = ccdata[pdb][0]\n",
    "                        for cc in data:\n",
    "                            for indice, cc_seq, heptad in zip(cc['indices'], cc['sequences'], cc['heptads']):\n",
    "                                if indice[3]==chain:\n",
    "                                    cc_seq = cc_seq.replace('X', 'M') #### Try replacing X with M as it's most common\n",
    "                                    starts = [match.start() for match in re.finditer(re.escape(cc_seq), id2seq[entry])]\n",
    "                                    if starts:\n",
    "                                        if len(cc_seq) >= 7: ## Only CC domains of length 7 or more\n",
    "                                            cc_present = True\n",
    "                                            for start in starts:\n",
    "                                                temp_list = list(assignment)\n",
    "                                                for i in range(0, len(cc_seq)):\n",
    "                                                    temp_list[start+i] = '1'\n",
    "                                                assignment = ''.join(temp_list)\n",
    "                        if cc_present:\n",
    "                            raise IOError\n",
    "        if not cc_present:\n",
    "            if len(proper_entries) > 0:\n",
    "                nocc_allentries[proper_entries[0]] = [id2seq[proper_entries[0]], len(id2seq[proper_entries[0]])*'0']\n",
    "    except IOError:\n",
    "        cc_allentries[entry]= [seq, assignment]"
   ]
  },
  {
   "cell_type": "markdown",
   "metadata": {},
   "source": [
    "Data format example"
   ]
  },
  {
   "cell_type": "code",
   "execution_count": 8,
   "metadata": {},
   "outputs": [
    {
     "data": {
      "text/plain": [
       "['MSTSHVDDEDVNSIAVAKTDGLNQLYNLVAQDYALTDTIECLSRMLHRGTIPLDTFVKQGRELARQQFLVRWHIQRITSPLS',\n",
       " '0000000000000000000000001111111111111110000000000000000111111111111111111100000000']"
      ]
     },
     "execution_count": 8,
     "metadata": {},
     "output_type": "execute_result"
    }
   ],
   "source": [
    "cc_allentries['2caz_A']"
   ]
  },
  {
   "cell_type": "markdown",
   "metadata": {},
   "source": [
    "# Check for entries with PSSM and corresponding PSIBLAST out files"
   ]
  },
  {
   "cell_type": "markdown",
   "metadata": {},
   "source": [
    "Double check if psiblast PSSM files are available for certain entry and that the sequence matches the sequence in the PSSM file"
   ]
  },
  {
   "cell_type": "code",
   "execution_count": 9,
   "metadata": {},
   "outputs": [],
   "source": [
    "def get_pssm_sequence(fn):\n",
    "    c = 0\n",
    "    seq_list = []\n",
    "    try:\n",
    "        with open(fn) as f:\n",
    "            for line in f:\n",
    "                if c > 2:\n",
    "                    try:\n",
    "                        aa = line.split()\n",
    "                        seq_list.append(aa[1])\n",
    "                    except IndexError:\n",
    "                        break\n",
    "                c += 1\n",
    "        f.close()\n",
    "    except FileNotFoundError:\n",
    "        pass\n",
    "    return ''.join(seq_list)"
   ]
  },
  {
   "cell_type": "code",
   "execution_count": 10,
   "metadata": {},
   "outputs": [],
   "source": [
    "cc_allentries_clean = {}\n",
    "nocc_allentries_clean = {}\n",
    "\n",
    "db_pssm3 = pickle.load(open('/home/db/psiblast/PSSM_3_IT.p', 'rb'))\n",
    "for entry, values in cc_allentries.items():\n",
    "    fn1 = '/home/db/psiblast/PSSM_3_IT/%s.pssm' % entry\n",
    "    if entry in db_pssm3:\n",
    "        if get_pssm_sequence(fn1) == values[0]:\n",
    "            cc_allentries_clean[entry] = values\n",
    "for entry, values in nocc_allentries.items():\n",
    "    fn1 = '/home/db/psiblast/PSSM_3_IT/%s.pssm' % entry\n",
    "    if entry in db_pssm3:\n",
    "        if get_pssm_sequence(fn1) == values[0]:\n",
    "            nocc_allentries_clean[entry] = values"
   ]
  },
  {
   "cell_type": "markdown",
   "metadata": {},
   "source": [
    "# Counts"
   ]
  },
  {
   "cell_type": "code",
   "execution_count": 11,
   "metadata": {},
   "outputs": [
    {
     "data": {
      "text/plain": [
       "(3517, 25637, 29154)"
      ]
     },
     "execution_count": 11,
     "metadata": {},
     "output_type": "execute_result"
    }
   ],
   "source": [
    "len(cc_allentries), len(nocc_allentries), len(cc_allentries)+len(nocc_allentries)"
   ]
  },
  {
   "cell_type": "code",
   "execution_count": 12,
   "metadata": {},
   "outputs": [
    {
     "data": {
      "text/plain": [
       "(3507, 25431, 28938)"
      ]
     },
     "execution_count": 12,
     "metadata": {},
     "output_type": "execute_result"
    }
   ],
   "source": [
    "len(cc_allentries_clean), len(nocc_allentries_clean), len(cc_allentries_clean)+len(nocc_allentries_clean)"
   ]
  },
  {
   "cell_type": "markdown",
   "metadata": {},
   "source": [
    "# Final checkup"
   ]
  },
  {
   "cell_type": "code",
   "execution_count": 13,
   "metadata": {},
   "outputs": [],
   "source": [
    "for entry, value in nocc_allentries_clean.items():\n",
    "    assert '1' not in value[1]\n",
    "for entry, value in cc_allentries_clean.items():\n",
    "    assert '1'  in value[1]"
   ]
  },
  {
   "cell_type": "code",
   "execution_count": 14,
   "metadata": {},
   "outputs": [
    {
     "data": {
      "text/plain": [
       "set()"
      ]
     },
     "execution_count": 14,
     "metadata": {},
     "output_type": "execute_result"
    }
   ],
   "source": [
    "set(cc_allentries_clean.keys()) & set(nocc_allentries_clean.keys())"
   ]
  },
  {
   "cell_type": "markdown",
   "metadata": {},
   "source": [
    "# Create pandas dataframe"
   ]
  },
  {
   "cell_type": "code",
   "execution_count": 15,
   "metadata": {},
   "outputs": [],
   "source": [
    "import pandas as pd"
   ]
  },
  {
   "cell_type": "code",
   "execution_count": 16,
   "metadata": {},
   "outputs": [],
   "source": [
    "df1 = pd.DataFrame.from_dict(cc_allentries_clean, orient='index')\n",
    "df1.columns = ['sequence', 'socket_assignment']\n",
    "df1['cc'] = 1\n",
    "df2 = pd.DataFrame.from_dict(nocc_allentries_clean, orient='index')\n",
    "df2.columns = ['sequence', 'socket_assignment']\n",
    "df2['cc'] = 0"
   ]
  },
  {
   "cell_type": "code",
   "execution_count": 17,
   "metadata": {},
   "outputs": [],
   "source": [
    "df = pd.concat([df1, df2])"
   ]
  },
  {
   "cell_type": "code",
   "execution_count": 18,
   "metadata": {},
   "outputs": [
    {
     "data": {
      "text/html": [
       "<div>\n",
       "<style>\n",
       "    .dataframe thead tr:only-child th {\n",
       "        text-align: right;\n",
       "    }\n",
       "\n",
       "    .dataframe thead th {\n",
       "        text-align: left;\n",
       "    }\n",
       "\n",
       "    .dataframe tbody tr th {\n",
       "        vertical-align: top;\n",
       "    }\n",
       "</style>\n",
       "<table border=\"1\" class=\"dataframe\">\n",
       "  <thead>\n",
       "    <tr style=\"text-align: right;\">\n",
       "      <th></th>\n",
       "      <th>sequence</th>\n",
       "      <th>socket_assignment</th>\n",
       "      <th>cc</th>\n",
       "    </tr>\n",
       "  </thead>\n",
       "  <tbody>\n",
       "    <tr>\n",
       "      <th>4a25_A</th>\n",
       "      <td>TTIHDVQTTGLTQDAVTGFDASSRLNAGLQEVLVDLTALHLQGKQA...</td>\n",
       "      <td>0000000000000000000000000000111111111111111111...</td>\n",
       "      <td>1</td>\n",
       "    </tr>\n",
       "    <tr>\n",
       "      <th>4btf_A</th>\n",
       "      <td>GAMGSMDKLGQIIKLGQLIYEQCEKMKYCRKQCQRLGNRVHGLLQP...</td>\n",
       "      <td>0000000000000000000000000000000111111111111000...</td>\n",
       "      <td>1</td>\n",
       "    </tr>\n",
       "    <tr>\n",
       "      <th>5i4q_B</th>\n",
       "      <td>MDIWPEFQRDLEMYRDVVLSIKRNLRLYEECIESLVHQIGSTNFDN...</td>\n",
       "      <td>0000001111111111111111111111111111111110000000...</td>\n",
       "      <td>1</td>\n",
       "    </tr>\n",
       "    <tr>\n",
       "      <th>3kb4_A</th>\n",
       "      <td>MIETITQSQETAILESFLELVKSPYGNFASIGKLSHVLNDPDTLQK...</td>\n",
       "      <td>0000000000000000000000000000000000000000000000...</td>\n",
       "      <td>1</td>\n",
       "    </tr>\n",
       "    <tr>\n",
       "      <th>1r7j_A</th>\n",
       "      <td>AKKKSKLEIIQAILEACKSGSPKTRIMYGANLSYALTGRYIKMLMD...</td>\n",
       "      <td>0000000000000000000000000000000000000000000000...</td>\n",
       "      <td>1</td>\n",
       "    </tr>\n",
       "  </tbody>\n",
       "</table>\n",
       "</div>"
      ],
      "text/plain": [
       "                                                 sequence  \\\n",
       "4a25_A  TTIHDVQTTGLTQDAVTGFDASSRLNAGLQEVLVDLTALHLQGKQA...   \n",
       "4btf_A  GAMGSMDKLGQIIKLGQLIYEQCEKMKYCRKQCQRLGNRVHGLLQP...   \n",
       "5i4q_B  MDIWPEFQRDLEMYRDVVLSIKRNLRLYEECIESLVHQIGSTNFDN...   \n",
       "3kb4_A  MIETITQSQETAILESFLELVKSPYGNFASIGKLSHVLNDPDTLQK...   \n",
       "1r7j_A  AKKKSKLEIIQAILEACKSGSPKTRIMYGANLSYALTGRYIKMLMD...   \n",
       "\n",
       "                                        socket_assignment  cc  \n",
       "4a25_A  0000000000000000000000000000111111111111111111...   1  \n",
       "4btf_A  0000000000000000000000000000000111111111111000...   1  \n",
       "5i4q_B  0000001111111111111111111111111111111110000000...   1  \n",
       "3kb4_A  0000000000000000000000000000000000000000000000...   1  \n",
       "1r7j_A  0000000000000000000000000000000000000000000000...   1  "
      ]
     },
     "execution_count": 18,
     "metadata": {},
     "output_type": "execute_result"
    }
   ],
   "source": [
    "df.head()"
   ]
  },
  {
   "cell_type": "markdown",
   "metadata": {},
   "source": [
    "# Dump data"
   ]
  },
  {
   "cell_type": "code",
   "execution_count": 19,
   "metadata": {},
   "outputs": [],
   "source": [
    "df.to_csv('./out/csv/data_all_74.csv')\n",
    "df.to_pickle(open('./out/pickle/data_all_74.p', 'wb'))"
   ]
  },
  {
   "cell_type": "code",
   "execution_count": 20,
   "metadata": {},
   "outputs": [
    {
     "data": {
      "text/plain": [
       "(28938, 3)"
      ]
     },
     "execution_count": 20,
     "metadata": {},
     "output_type": "execute_result"
    }
   ],
   "source": [
    "df.shape"
   ]
  },
  {
   "cell_type": "code",
   "execution_count": null,
   "metadata": {},
   "outputs": [],
   "source": []
  }
 ],
 "metadata": {
  "kernelspec": {
   "display_name": "Python 3",
   "language": "python",
   "name": "python3"
  },
  "language_info": {
   "codemirror_mode": {
    "name": "ipython",
    "version": 3
   },
   "file_extension": ".py",
   "mimetype": "text/x-python",
   "name": "python",
   "nbconvert_exporter": "python",
   "pygments_lexer": "ipython3",
   "version": "3.5.2"
  }
 },
 "nbformat": 4,
 "nbformat_minor": 2
}
