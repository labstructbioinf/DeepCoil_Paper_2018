{
 "cells": [
  {
   "cell_type": "markdown",
   "metadata": {},
   "source": [
    "### Get PDB protein x-ray entries"
   ]
  },
  {
   "cell_type": "code",
   "execution_count": 1,
   "metadata": {},
   "outputs": [],
   "source": [
    "import os\n",
    "entries = []\n",
    "with open('/home/db/pdb/pdb_entry_type.txt', 'r') as f:\n",
    "    for line in f:\n",
    "        line = line.rstrip()\n",
    "        data = line.split('\\t')\n",
    "        if data[1] == 'prot' and data[2] == 'diffraction':\n",
    "            entries.append(data[0])"
   ]
  },
  {
   "cell_type": "markdown",
   "metadata": {},
   "source": [
    "### Parse Socket outputs. Program was run on the whole PDB database (biological assemblies)."
   ]
  },
  {
   "cell_type": "markdown",
   "metadata": {},
   "source": [
    "#### Get entries with Socket output"
   ]
  },
  {
   "cell_type": "code",
   "execution_count": 2,
   "metadata": {},
   "outputs": [],
   "source": [
    "entries_socket = set()\n",
    "for entry in entries:\n",
    "    if os.path.isfile('/home/users/jludwiczak/socket_pdb/socket_db_bio/%s/%s_74.socket_short' % (entry[1:3].lower(), entry.lower())):\n",
    "        entries_socket.add(entry)"
   ]
  },
  {
   "cell_type": "code",
   "execution_count": 3,
   "metadata": {},
   "outputs": [
    {
     "data": {
      "text/plain": [
       "(117426, 113445)"
      ]
     },
     "execution_count": 3,
     "metadata": {},
     "output_type": "execute_result"
    }
   ],
   "source": [
    "len(entries), len(entries_socket)"
   ]
  },
  {
   "cell_type": "markdown",
   "metadata": {},
   "source": [
    "Small number of entries is missing due to e.g. non-standard residues, size limitations of PDB format, etc."
   ]
  },
  {
   "cell_type": "markdown",
   "metadata": {},
   "source": [
    "### Now parse Socket outputs for all correct entries"
   ]
  },
  {
   "cell_type": "markdown",
   "metadata": {},
   "source": [
    "#### First get only positive entries (containing CC)"
   ]
  },
  {
   "cell_type": "code",
   "execution_count": 4,
   "metadata": {},
   "outputs": [],
   "source": [
    "entries_pos = set()\n",
    "for entry in entries_socket:\n",
    "    f = open('/home/users/jludwiczak/socket_pdb/socket_db_bio/%s/%s_74.socket_short' % (entry[1:3].lower(), entry.lower()), 'r')\n",
    "    lines = f.readlines()\n",
    "    f.close()\n",
    "    if 'COILED COILS PRESENT' in lines[-2]:\n",
    "        entries_pos.add(entry)"
   ]
  },
  {
   "cell_type": "code",
   "execution_count": 5,
   "metadata": {},
   "outputs": [
    {
     "data": {
      "text/plain": [
       "11117"
      ]
     },
     "execution_count": 5,
     "metadata": {},
     "output_type": "execute_result"
    }
   ],
   "source": [
    "len(entries_pos)"
   ]
  },
  {
   "cell_type": "markdown",
   "metadata": {},
   "source": [
    "11117 entries containing CC domains"
   ]
  },
  {
   "cell_type": "code",
   "execution_count": 6,
   "metadata": {},
   "outputs": [],
   "source": [
    "from lbs.coiledcoils.socket import parse_socket_output\n",
    "import pickle"
   ]
  },
  {
   "cell_type": "code",
   "execution_count": 7,
   "metadata": {},
   "outputs": [],
   "source": [
    "data = {}\n",
    "for entry in entries_pos:\n",
    "    fn = '/home/users/jludwiczak/socket_pdb/socket_db_bio/%s/%s_74.socket_short' % (entry[1:3].lower(), entry.lower())\n",
    "    data[entry] = parse_socket_output(fn, entry, method='kih')"
   ]
  },
  {
   "cell_type": "markdown",
   "metadata": {},
   "source": [
    "#### Data structure"
   ]
  },
  {
   "cell_type": "code",
   "execution_count": 8,
   "metadata": {},
   "outputs": [
    {
     "data": {
      "text/plain": [
       "([{'heptads': ['---------------------------',\n",
       "    '-----------------------------',\n",
       "    '---------------------------',\n",
       "    '-----------------------------'],\n",
       "   'indices': [('0', '5', '29', 'A'),\n",
       "    ('1', '5', '30', 'B'),\n",
       "    ('2', '5', '29', 'C'),\n",
       "    ('3', '5', '30', 'D')],\n",
       "   'oligomerization': '4',\n",
       "   'orientation': 'parallel',\n",
       "   'sequences': ['IEDKLEEILSKLYHISNELARI',\n",
       "    'IEDKLEEILSKLYHISNELARIK',\n",
       "    'IEDKLEEILSKLYHISNELARI',\n",
       "    'IEDKLEEILSKLYHISNELARIK']}],\n",
       " [['0', '1', 'parallel'],\n",
       "  ['0', '3', 'parallel'],\n",
       "  ['1', '2', 'parallel'],\n",
       "  ['2', '1', 'parallel'],\n",
       "  ['2', '3', 'parallel']])"
      ]
     },
     "execution_count": 8,
     "metadata": {},
     "output_type": "execute_result"
    }
   ],
   "source": [
    "data['2cce']"
   ]
  },
  {
   "cell_type": "markdown",
   "metadata": {},
   "source": [
    "### Dump data"
   ]
  },
  {
   "cell_type": "code",
   "execution_count": 9,
   "metadata": {},
   "outputs": [],
   "source": [
    "pickle.dump(data, open('in/cc_biounit_74_kih.p', 'wb'))"
   ]
  }
 ],
 "metadata": {
  "kernelspec": {
   "display_name": "Python 3",
   "language": "python",
   "name": "python3"
  },
  "language_info": {
   "codemirror_mode": {
    "name": "ipython",
    "version": 3
   },
   "file_extension": ".py",
   "mimetype": "text/x-python",
   "name": "python",
   "nbconvert_exporter": "python",
   "pygments_lexer": "ipython3",
   "version": "3.5.2"
  }
 },
 "nbformat": 4,
 "nbformat_minor": 2
}
