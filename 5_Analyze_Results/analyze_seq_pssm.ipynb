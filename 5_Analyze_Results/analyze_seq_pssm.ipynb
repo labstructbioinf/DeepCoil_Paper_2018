{
 "cells": [
  {
   "cell_type": "code",
   "execution_count": 1,
   "metadata": {},
   "outputs": [
    {
     "name": "stderr",
     "output_type": "stream",
     "text": [
      "Using TensorFlow backend.\n"
     ]
    }
   ],
   "source": [
    "import numpy as np\n",
    "import pandas as pd\n",
    "import pickle\n",
    "from lbs.dl.metrics import calc_sov\n",
    "import sklearn.metrics\n",
    "pd.options.display.float_format = '{:,.3f}'.format\n",
    "import re"
   ]
  },
  {
   "cell_type": "code",
   "execution_count": 2,
   "metadata": {},
   "outputs": [],
   "source": [
    "def get_benchmarks(true_column, pred_column):\n",
    "    yt = []\n",
    "    yp = []\n",
    "    sovs = []\n",
    "    for true, pred in zip(true_column.tolist(), pred_column.tolist()):\n",
    "        for match in re.finditer(r\"([%s]+)\" % '1', true):\n",
    "            sovs.append(calc_sov(true[match.start():match.end()], pred[match.start():match.end()]))\n",
    "        for y_true, y_pred in zip(true, pred):\n",
    "            yt.append(y_true)\n",
    "            yp.append(y_pred)\n",
    "    prec = sklearn.metrics.precision_score(yt, yp, pos_label='1')\n",
    "    sens = sklearn.metrics.recall_score(yt, yp, pos_label='1')\n",
    "    f1 = sklearn.metrics.f1_score(yt, yp, pos_label='1')\n",
    "    sovs = np.asarray(sovs)\n",
    "    return(prec, sens, f1, np.mean(sovs), (np.count_nonzero(sovs)/sovs.shape[0]))"
   ]
  },
  {
   "cell_type": "code",
   "execution_count": 3,
   "metadata": {},
   "outputs": [],
   "source": [
    "mapping = {'deepcoil_assignment': 'DeepCoil', 'cchmmprof_assignment': 'CCHMM_PROF', 'marcoil_10_assignment':'Marcoil_10', \n",
    "           'marcoil_50_assignment':'Marcoil_50', 'marcoil_90_assignment':'Marcoil_90', 'pcoils_14_assignment': 'PCoils_14',\n",
    "           'pcoils_21_assignment': 'PCoils_21', 'pcoils_28_assignment': 'PCoils_28', 'coils_14_assignment': 'Coils_14',\n",
    "           'coils_21_assignment': 'Coils_21', 'coils_28_assignment': 'Coils_28', 'pcoils_14_assignment_toolkit': 'PCoils_14_Toolkit',\n",
    "           'pcoils_21_assignment_toolkit': 'PCoils_21_Toolkit', 'pcoils_28_assignment_toolkit':'PCoils_28_Toolkit', 'pcoils_14_nw_assignment_toolkit': 'PCoils_14_NW_Toolkit',\n",
    "           'pcoils_21_nw_assignment_toolkit': 'PCoils_21_NW_Toolkit', 'pcoils_28_nw_assignment_toolkit':'PCoils_28_NW_Toolkit', 'multicoil2_assignment': 'Multicoil2'}"
   ]
  },
  {
   "cell_type": "markdown",
   "metadata": {},
   "source": [
    "### Get results from cross-validation"
   ]
  },
  {
   "cell_type": "code",
   "execution_count": 4,
   "metadata": {},
   "outputs": [
    {
     "data": {
      "text/plain": [
       "(10438, 26)"
      ]
     },
     "execution_count": 4,
     "metadata": {},
     "output_type": "execute_result"
    }
   ],
   "source": [
    "df_cv = pickle.load(open('./../4_Train/out/pssm/cv_results.p', 'rb'))\n",
    "df_cv.shape"
   ]
  },
  {
   "cell_type": "code",
   "execution_count": 5,
   "metadata": {},
   "outputs": [],
   "source": [
    "results = {}\n",
    "variants = ['deepcoil_assignment', 'cchmmprof_assignment', 'marcoil_10_assignment', 'marcoil_50_assignment',\n",
    "            'marcoil_90_assignment', 'pcoils_14_assignment', 'pcoils_21_assignment', 'pcoils_28_assignment', \n",
    "            'coils_14_assignment', 'coils_21_assignment', 'coils_28_assignment', 'multicoil2_assignment']\n",
    "for variant in variants:\n",
    "    results[mapping[variant]] = get_benchmarks(df_cv['socket_assignment'], df_cv[variant])"
   ]
  },
  {
   "cell_type": "code",
   "execution_count": 6,
   "metadata": {},
   "outputs": [],
   "source": [
    "results_cv = pd.DataFrame.from_dict(results, orient='index')\n",
    "results_cv.columns = ['Precision', 'Sensitivity', 'F1 score', 'Mean SOV', 'Detected segments']\n",
    "results_cv.sort_index(inplace=True)"
   ]
  },
  {
   "cell_type": "markdown",
   "metadata": {},
   "source": [
    "### Get results from test set"
   ]
  },
  {
   "cell_type": "code",
   "execution_count": 7,
   "metadata": {},
   "outputs": [
    {
     "data": {
      "text/plain": [
       "(1193, 25)"
      ]
     },
     "execution_count": 7,
     "metadata": {},
     "output_type": "execute_result"
    }
   ],
   "source": [
    "df_test = pickle.load(open('./../4_Train/out/pssm/test_results.p', 'rb'))\n",
    "df_test.shape"
   ]
  },
  {
   "cell_type": "markdown",
   "metadata": {},
   "source": [
    "#### Add results from PCoils calculated on Tuebingen Toolkit"
   ]
  },
  {
   "cell_type": "code",
   "execution_count": 8,
   "metadata": {},
   "outputs": [
    {
     "data": {
      "text/plain": [
       "(1193, 28)"
      ]
     },
     "execution_count": 8,
     "metadata": {},
     "output_type": "execute_result"
    }
   ],
   "source": [
    "df_update = pickle.load(open('./../2_Benchmark_Other_Methods/pcoils/pcoils_test_update.p', 'rb'))\n",
    "df_test = pd.concat([df_test, df_update], axis=1, sort=True)\n",
    "df_test.shape"
   ]
  },
  {
   "cell_type": "code",
   "execution_count": 9,
   "metadata": {},
   "outputs": [],
   "source": [
    "results = {}\n",
    "variants = ['deepcoil_assignment', 'cchmmprof_assignment', 'marcoil_10_assignment', 'marcoil_50_assignment',\n",
    "            'marcoil_90_assignment', 'pcoils_14_assignment', 'pcoils_21_assignment', 'pcoils_28_assignment',\n",
    "            'pcoils_14_assignment_toolkit', 'pcoils_21_assignment_toolkit', 'pcoils_28_assignment_toolkit',\n",
    "            'coils_14_assignment', 'coils_21_assignment', 'coils_28_assignment', 'multicoil2_assignment']\n",
    "for variant in variants:\n",
    "    results[mapping[variant]] = get_benchmarks(df_test['socket_assignment'], df_test[variant])"
   ]
  },
  {
   "cell_type": "code",
   "execution_count": 10,
   "metadata": {},
   "outputs": [],
   "source": [
    "results_test = pd.DataFrame.from_dict(results, orient='index')\n",
    "results_test.columns = ['Precision', 'Sensitivity', 'F1 score', 'Mean SOV', 'Detected segments']\n",
    "results_test.sort_index(inplace=True)"
   ]
  },
  {
   "cell_type": "markdown",
   "metadata": {},
   "source": [
    "### Get results from Li (2016) test set"
   ]
  },
  {
   "cell_type": "code",
   "execution_count": 11,
   "metadata": {},
   "outputs": [
    {
     "data": {
      "text/plain": [
       "(518, 25)"
      ]
     },
     "execution_count": 11,
     "metadata": {},
     "output_type": "execute_result"
    }
   ],
   "source": [
    "df_test = pickle.load(open('./../4_Train/out/pssm/li2016_results.p', 'rb'))\n",
    "df_test.shape"
   ]
  },
  {
   "cell_type": "markdown",
   "metadata": {},
   "source": [
    "#### Add results from PCoils calculated on Tuebingen Toolkit"
   ]
  },
  {
   "cell_type": "code",
   "execution_count": 12,
   "metadata": {},
   "outputs": [
    {
     "data": {
      "text/plain": [
       "(518, 28)"
      ]
     },
     "execution_count": 12,
     "metadata": {},
     "output_type": "execute_result"
    }
   ],
   "source": [
    "df_update = pickle.load(open('./../2_Benchmark_Other_Methods/pcoils/pcoils_li2016_update.p', 'rb'))\n",
    "df_test = pd.concat([df_test, df_update], axis=1, sort=True)\n",
    "df_test.shape"
   ]
  },
  {
   "cell_type": "code",
   "execution_count": 13,
   "metadata": {},
   "outputs": [],
   "source": [
    "results = {}\n",
    "variants = ['deepcoil_assignment', 'cchmmprof_assignment', 'marcoil_10_assignment', 'marcoil_50_assignment',\n",
    "            'marcoil_90_assignment', 'pcoils_14_assignment', 'pcoils_21_assignment', 'pcoils_28_assignment',\n",
    "            'pcoils_14_assignment_toolkit', 'pcoils_21_assignment_toolkit', 'pcoils_28_assignment_toolkit',\n",
    "            'coils_14_assignment', 'coils_21_assignment', 'coils_28_assignment', 'multicoil2_assignment']\n",
    "for variant in variants:\n",
    "    results[mapping[variant]] = get_benchmarks(df_test['socket_assignment'], df_test[variant])"
   ]
  },
  {
   "cell_type": "code",
   "execution_count": 14,
   "metadata": {},
   "outputs": [],
   "source": [
    "results_li2016 = pd.DataFrame.from_dict(results, orient='index')\n",
    "results_li2016.columns = ['Precision', 'Sensitivity', 'F1 score', 'Mean SOV', 'Detected segments']\n",
    "results_li2016.sort_index(inplace=True)"
   ]
  },
  {
   "cell_type": "markdown",
   "metadata": {},
   "source": [
    "### Show results"
   ]
  },
  {
   "cell_type": "markdown",
   "metadata": {},
   "source": [
    "#### Cross-validation"
   ]
  },
  {
   "cell_type": "code",
   "execution_count": 15,
   "metadata": {},
   "outputs": [
    {
     "data": {
      "text/html": [
       "<div>\n",
       "<style scoped>\n",
       "    .dataframe tbody tr th:only-of-type {\n",
       "        vertical-align: middle;\n",
       "    }\n",
       "\n",
       "    .dataframe tbody tr th {\n",
       "        vertical-align: top;\n",
       "    }\n",
       "\n",
       "    .dataframe thead th {\n",
       "        text-align: right;\n",
       "    }\n",
       "</style>\n",
       "<table border=\"1\" class=\"dataframe\">\n",
       "  <thead>\n",
       "    <tr style=\"text-align: right;\">\n",
       "      <th></th>\n",
       "      <th>Precision</th>\n",
       "      <th>Sensitivity</th>\n",
       "      <th>F1 score</th>\n",
       "      <th>Mean SOV</th>\n",
       "      <th>Detected segments</th>\n",
       "    </tr>\n",
       "  </thead>\n",
       "  <tbody>\n",
       "    <tr>\n",
       "      <th>CCHMM_PROF</th>\n",
       "      <td>0.382</td>\n",
       "      <td>0.227</td>\n",
       "      <td>0.284</td>\n",
       "      <td>0.147</td>\n",
       "      <td>0.148</td>\n",
       "    </tr>\n",
       "    <tr>\n",
       "      <th>Coils_14</th>\n",
       "      <td>0.241</td>\n",
       "      <td>0.259</td>\n",
       "      <td>0.249</td>\n",
       "      <td>0.236</td>\n",
       "      <td>0.290</td>\n",
       "    </tr>\n",
       "    <tr>\n",
       "      <th>Coils_21</th>\n",
       "      <td>0.336</td>\n",
       "      <td>0.274</td>\n",
       "      <td>0.302</td>\n",
       "      <td>0.213</td>\n",
       "      <td>0.238</td>\n",
       "    </tr>\n",
       "    <tr>\n",
       "      <th>Coils_28</th>\n",
       "      <td>0.400</td>\n",
       "      <td>0.274</td>\n",
       "      <td>0.325</td>\n",
       "      <td>0.188</td>\n",
       "      <td>0.203</td>\n",
       "    </tr>\n",
       "    <tr>\n",
       "      <th>DeepCoil</th>\n",
       "      <td>0.492</td>\n",
       "      <td>0.581</td>\n",
       "      <td>0.532</td>\n",
       "      <td>0.525</td>\n",
       "      <td>0.636</td>\n",
       "    </tr>\n",
       "    <tr>\n",
       "      <th>Marcoil_10</th>\n",
       "      <td>0.284</td>\n",
       "      <td>0.369</td>\n",
       "      <td>0.321</td>\n",
       "      <td>0.271</td>\n",
       "      <td>0.293</td>\n",
       "    </tr>\n",
       "    <tr>\n",
       "      <th>Marcoil_50</th>\n",
       "      <td>0.400</td>\n",
       "      <td>0.261</td>\n",
       "      <td>0.316</td>\n",
       "      <td>0.175</td>\n",
       "      <td>0.191</td>\n",
       "    </tr>\n",
       "    <tr>\n",
       "      <th>Marcoil_90</th>\n",
       "      <td>0.491</td>\n",
       "      <td>0.176</td>\n",
       "      <td>0.259</td>\n",
       "      <td>0.111</td>\n",
       "      <td>0.122</td>\n",
       "    </tr>\n",
       "    <tr>\n",
       "      <th>Multicoil2</th>\n",
       "      <td>0.546</td>\n",
       "      <td>0.195</td>\n",
       "      <td>0.287</td>\n",
       "      <td>0.102</td>\n",
       "      <td>0.104</td>\n",
       "    </tr>\n",
       "    <tr>\n",
       "      <th>PCoils_14</th>\n",
       "      <td>0.382</td>\n",
       "      <td>0.235</td>\n",
       "      <td>0.291</td>\n",
       "      <td>0.192</td>\n",
       "      <td>0.226</td>\n",
       "    </tr>\n",
       "    <tr>\n",
       "      <th>PCoils_21</th>\n",
       "      <td>0.379</td>\n",
       "      <td>0.341</td>\n",
       "      <td>0.359</td>\n",
       "      <td>0.261</td>\n",
       "      <td>0.280</td>\n",
       "    </tr>\n",
       "    <tr>\n",
       "      <th>PCoils_28</th>\n",
       "      <td>0.366</td>\n",
       "      <td>0.371</td>\n",
       "      <td>0.368</td>\n",
       "      <td>0.264</td>\n",
       "      <td>0.284</td>\n",
       "    </tr>\n",
       "  </tbody>\n",
       "</table>\n",
       "</div>"
      ],
      "text/plain": [
       "            Precision  Sensitivity  F1 score  Mean SOV  Detected segments\n",
       "CCHMM_PROF      0.382        0.227     0.284     0.147              0.148\n",
       "Coils_14        0.241        0.259     0.249     0.236              0.290\n",
       "Coils_21        0.336        0.274     0.302     0.213              0.238\n",
       "Coils_28        0.400        0.274     0.325     0.188              0.203\n",
       "DeepCoil        0.492        0.581     0.532     0.525              0.636\n",
       "Marcoil_10      0.284        0.369     0.321     0.271              0.293\n",
       "Marcoil_50      0.400        0.261     0.316     0.175              0.191\n",
       "Marcoil_90      0.491        0.176     0.259     0.111              0.122\n",
       "Multicoil2      0.546        0.195     0.287     0.102              0.104\n",
       "PCoils_14       0.382        0.235     0.291     0.192              0.226\n",
       "PCoils_21       0.379        0.341     0.359     0.261              0.280\n",
       "PCoils_28       0.366        0.371     0.368     0.264              0.284"
      ]
     },
     "execution_count": 15,
     "metadata": {},
     "output_type": "execute_result"
    }
   ],
   "source": [
    "results_cv"
   ]
  },
  {
   "cell_type": "markdown",
   "metadata": {},
   "source": [
    "#### Test set"
   ]
  },
  {
   "cell_type": "code",
   "execution_count": 16,
   "metadata": {},
   "outputs": [
    {
     "data": {
      "text/html": [
       "<div>\n",
       "<style scoped>\n",
       "    .dataframe tbody tr th:only-of-type {\n",
       "        vertical-align: middle;\n",
       "    }\n",
       "\n",
       "    .dataframe tbody tr th {\n",
       "        vertical-align: top;\n",
       "    }\n",
       "\n",
       "    .dataframe thead th {\n",
       "        text-align: right;\n",
       "    }\n",
       "</style>\n",
       "<table border=\"1\" class=\"dataframe\">\n",
       "  <thead>\n",
       "    <tr style=\"text-align: right;\">\n",
       "      <th></th>\n",
       "      <th>Precision</th>\n",
       "      <th>Sensitivity</th>\n",
       "      <th>F1 score</th>\n",
       "      <th>Mean SOV</th>\n",
       "      <th>Detected segments</th>\n",
       "    </tr>\n",
       "  </thead>\n",
       "  <tbody>\n",
       "    <tr>\n",
       "      <th>CCHMM_PROF</th>\n",
       "      <td>0.255</td>\n",
       "      <td>0.310</td>\n",
       "      <td>0.280</td>\n",
       "      <td>0.234</td>\n",
       "      <td>0.237</td>\n",
       "    </tr>\n",
       "    <tr>\n",
       "      <th>Coils_14</th>\n",
       "      <td>0.252</td>\n",
       "      <td>0.306</td>\n",
       "      <td>0.276</td>\n",
       "      <td>0.261</td>\n",
       "      <td>0.309</td>\n",
       "    </tr>\n",
       "    <tr>\n",
       "      <th>Coils_21</th>\n",
       "      <td>0.332</td>\n",
       "      <td>0.322</td>\n",
       "      <td>0.327</td>\n",
       "      <td>0.228</td>\n",
       "      <td>0.252</td>\n",
       "    </tr>\n",
       "    <tr>\n",
       "      <th>Coils_28</th>\n",
       "      <td>0.386</td>\n",
       "      <td>0.317</td>\n",
       "      <td>0.348</td>\n",
       "      <td>0.199</td>\n",
       "      <td>0.218</td>\n",
       "    </tr>\n",
       "    <tr>\n",
       "      <th>DeepCoil</th>\n",
       "      <td>0.492</td>\n",
       "      <td>0.599</td>\n",
       "      <td>0.540</td>\n",
       "      <td>0.541</td>\n",
       "      <td>0.609</td>\n",
       "    </tr>\n",
       "    <tr>\n",
       "      <th>Marcoil_10</th>\n",
       "      <td>0.290</td>\n",
       "      <td>0.427</td>\n",
       "      <td>0.345</td>\n",
       "      <td>0.296</td>\n",
       "      <td>0.319</td>\n",
       "    </tr>\n",
       "    <tr>\n",
       "      <th>Marcoil_50</th>\n",
       "      <td>0.392</td>\n",
       "      <td>0.324</td>\n",
       "      <td>0.355</td>\n",
       "      <td>0.200</td>\n",
       "      <td>0.223</td>\n",
       "    </tr>\n",
       "    <tr>\n",
       "      <th>Marcoil_90</th>\n",
       "      <td>0.482</td>\n",
       "      <td>0.237</td>\n",
       "      <td>0.318</td>\n",
       "      <td>0.135</td>\n",
       "      <td>0.151</td>\n",
       "    </tr>\n",
       "    <tr>\n",
       "      <th>Multicoil2</th>\n",
       "      <td>0.550</td>\n",
       "      <td>0.242</td>\n",
       "      <td>0.336</td>\n",
       "      <td>0.124</td>\n",
       "      <td>0.127</td>\n",
       "    </tr>\n",
       "    <tr>\n",
       "      <th>PCoils_14</th>\n",
       "      <td>0.409</td>\n",
       "      <td>0.290</td>\n",
       "      <td>0.340</td>\n",
       "      <td>0.203</td>\n",
       "      <td>0.230</td>\n",
       "    </tr>\n",
       "    <tr>\n",
       "      <th>PCoils_14_Toolkit</th>\n",
       "      <td>0.340</td>\n",
       "      <td>0.332</td>\n",
       "      <td>0.336</td>\n",
       "      <td>0.269</td>\n",
       "      <td>0.307</td>\n",
       "    </tr>\n",
       "    <tr>\n",
       "      <th>PCoils_21</th>\n",
       "      <td>0.379</td>\n",
       "      <td>0.421</td>\n",
       "      <td>0.399</td>\n",
       "      <td>0.304</td>\n",
       "      <td>0.319</td>\n",
       "    </tr>\n",
       "    <tr>\n",
       "      <th>PCoils_21_Toolkit</th>\n",
       "      <td>0.348</td>\n",
       "      <td>0.409</td>\n",
       "      <td>0.376</td>\n",
       "      <td>0.301</td>\n",
       "      <td>0.312</td>\n",
       "    </tr>\n",
       "    <tr>\n",
       "      <th>PCoils_28</th>\n",
       "      <td>0.358</td>\n",
       "      <td>0.440</td>\n",
       "      <td>0.395</td>\n",
       "      <td>0.286</td>\n",
       "      <td>0.305</td>\n",
       "    </tr>\n",
       "    <tr>\n",
       "      <th>PCoils_28_Toolkit</th>\n",
       "      <td>0.333</td>\n",
       "      <td>0.440</td>\n",
       "      <td>0.379</td>\n",
       "      <td>0.311</td>\n",
       "      <td>0.338</td>\n",
       "    </tr>\n",
       "  </tbody>\n",
       "</table>\n",
       "</div>"
      ],
      "text/plain": [
       "                   Precision  Sensitivity  F1 score  Mean SOV  \\\n",
       "CCHMM_PROF             0.255        0.310     0.280     0.234   \n",
       "Coils_14               0.252        0.306     0.276     0.261   \n",
       "Coils_21               0.332        0.322     0.327     0.228   \n",
       "Coils_28               0.386        0.317     0.348     0.199   \n",
       "DeepCoil               0.492        0.599     0.540     0.541   \n",
       "Marcoil_10             0.290        0.427     0.345     0.296   \n",
       "Marcoil_50             0.392        0.324     0.355     0.200   \n",
       "Marcoil_90             0.482        0.237     0.318     0.135   \n",
       "Multicoil2             0.550        0.242     0.336     0.124   \n",
       "PCoils_14              0.409        0.290     0.340     0.203   \n",
       "PCoils_14_Toolkit      0.340        0.332     0.336     0.269   \n",
       "PCoils_21              0.379        0.421     0.399     0.304   \n",
       "PCoils_21_Toolkit      0.348        0.409     0.376     0.301   \n",
       "PCoils_28              0.358        0.440     0.395     0.286   \n",
       "PCoils_28_Toolkit      0.333        0.440     0.379     0.311   \n",
       "\n",
       "                   Detected segments  \n",
       "CCHMM_PROF                     0.237  \n",
       "Coils_14                       0.309  \n",
       "Coils_21                       0.252  \n",
       "Coils_28                       0.218  \n",
       "DeepCoil                       0.609  \n",
       "Marcoil_10                     0.319  \n",
       "Marcoil_50                     0.223  \n",
       "Marcoil_90                     0.151  \n",
       "Multicoil2                     0.127  \n",
       "PCoils_14                      0.230  \n",
       "PCoils_14_Toolkit              0.307  \n",
       "PCoils_21                      0.319  \n",
       "PCoils_21_Toolkit              0.312  \n",
       "PCoils_28                      0.305  \n",
       "PCoils_28_Toolkit              0.338  "
      ]
     },
     "execution_count": 16,
     "metadata": {},
     "output_type": "execute_result"
    }
   ],
   "source": [
    "results_test"
   ]
  },
  {
   "cell_type": "markdown",
   "metadata": {},
   "source": [
    "#### Li (2016)"
   ]
  },
  {
   "cell_type": "code",
   "execution_count": 17,
   "metadata": {},
   "outputs": [
    {
     "data": {
      "text/html": [
       "<div>\n",
       "<style scoped>\n",
       "    .dataframe tbody tr th:only-of-type {\n",
       "        vertical-align: middle;\n",
       "    }\n",
       "\n",
       "    .dataframe tbody tr th {\n",
       "        vertical-align: top;\n",
       "    }\n",
       "\n",
       "    .dataframe thead th {\n",
       "        text-align: right;\n",
       "    }\n",
       "</style>\n",
       "<table border=\"1\" class=\"dataframe\">\n",
       "  <thead>\n",
       "    <tr style=\"text-align: right;\">\n",
       "      <th></th>\n",
       "      <th>Precision</th>\n",
       "      <th>Sensitivity</th>\n",
       "      <th>F1 score</th>\n",
       "      <th>Mean SOV</th>\n",
       "      <th>Detected segments</th>\n",
       "    </tr>\n",
       "  </thead>\n",
       "  <tbody>\n",
       "    <tr>\n",
       "      <th>CCHMM_PROF</th>\n",
       "      <td>0.445</td>\n",
       "      <td>0.257</td>\n",
       "      <td>0.326</td>\n",
       "      <td>0.192</td>\n",
       "      <td>0.192</td>\n",
       "    </tr>\n",
       "    <tr>\n",
       "      <th>Coils_14</th>\n",
       "      <td>0.446</td>\n",
       "      <td>0.260</td>\n",
       "      <td>0.328</td>\n",
       "      <td>0.255</td>\n",
       "      <td>0.311</td>\n",
       "    </tr>\n",
       "    <tr>\n",
       "      <th>Coils_21</th>\n",
       "      <td>0.512</td>\n",
       "      <td>0.266</td>\n",
       "      <td>0.350</td>\n",
       "      <td>0.232</td>\n",
       "      <td>0.259</td>\n",
       "    </tr>\n",
       "    <tr>\n",
       "      <th>Coils_28</th>\n",
       "      <td>0.559</td>\n",
       "      <td>0.278</td>\n",
       "      <td>0.372</td>\n",
       "      <td>0.219</td>\n",
       "      <td>0.239</td>\n",
       "    </tr>\n",
       "    <tr>\n",
       "      <th>DeepCoil</th>\n",
       "      <td>0.662</td>\n",
       "      <td>0.628</td>\n",
       "      <td>0.645</td>\n",
       "      <td>0.609</td>\n",
       "      <td>0.678</td>\n",
       "    </tr>\n",
       "    <tr>\n",
       "      <th>Marcoil_10</th>\n",
       "      <td>0.485</td>\n",
       "      <td>0.400</td>\n",
       "      <td>0.439</td>\n",
       "      <td>0.333</td>\n",
       "      <td>0.358</td>\n",
       "    </tr>\n",
       "    <tr>\n",
       "      <th>Marcoil_50</th>\n",
       "      <td>0.540</td>\n",
       "      <td>0.263</td>\n",
       "      <td>0.354</td>\n",
       "      <td>0.209</td>\n",
       "      <td>0.227</td>\n",
       "    </tr>\n",
       "    <tr>\n",
       "      <th>Marcoil_90</th>\n",
       "      <td>0.578</td>\n",
       "      <td>0.146</td>\n",
       "      <td>0.233</td>\n",
       "      <td>0.111</td>\n",
       "      <td>0.121</td>\n",
       "    </tr>\n",
       "    <tr>\n",
       "      <th>Multicoil2</th>\n",
       "      <td>0.610</td>\n",
       "      <td>0.170</td>\n",
       "      <td>0.265</td>\n",
       "      <td>0.098</td>\n",
       "      <td>0.101</td>\n",
       "    </tr>\n",
       "    <tr>\n",
       "      <th>PCoils_14</th>\n",
       "      <td>0.542</td>\n",
       "      <td>0.239</td>\n",
       "      <td>0.332</td>\n",
       "      <td>0.218</td>\n",
       "      <td>0.256</td>\n",
       "    </tr>\n",
       "    <tr>\n",
       "      <th>PCoils_14_Toolkit</th>\n",
       "      <td>0.526</td>\n",
       "      <td>0.283</td>\n",
       "      <td>0.368</td>\n",
       "      <td>0.271</td>\n",
       "      <td>0.323</td>\n",
       "    </tr>\n",
       "    <tr>\n",
       "      <th>PCoils_21</th>\n",
       "      <td>0.523</td>\n",
       "      <td>0.376</td>\n",
       "      <td>0.437</td>\n",
       "      <td>0.310</td>\n",
       "      <td>0.334</td>\n",
       "    </tr>\n",
       "    <tr>\n",
       "      <th>PCoils_21_Toolkit</th>\n",
       "      <td>0.516</td>\n",
       "      <td>0.387</td>\n",
       "      <td>0.442</td>\n",
       "      <td>0.331</td>\n",
       "      <td>0.360</td>\n",
       "    </tr>\n",
       "    <tr>\n",
       "      <th>PCoils_28</th>\n",
       "      <td>0.494</td>\n",
       "      <td>0.439</td>\n",
       "      <td>0.465</td>\n",
       "      <td>0.346</td>\n",
       "      <td>0.376</td>\n",
       "    </tr>\n",
       "    <tr>\n",
       "      <th>PCoils_28_Toolkit</th>\n",
       "      <td>0.495</td>\n",
       "      <td>0.449</td>\n",
       "      <td>0.471</td>\n",
       "      <td>0.359</td>\n",
       "      <td>0.388</td>\n",
       "    </tr>\n",
       "  </tbody>\n",
       "</table>\n",
       "</div>"
      ],
      "text/plain": [
       "                   Precision  Sensitivity  F1 score  Mean SOV  \\\n",
       "CCHMM_PROF             0.445        0.257     0.326     0.192   \n",
       "Coils_14               0.446        0.260     0.328     0.255   \n",
       "Coils_21               0.512        0.266     0.350     0.232   \n",
       "Coils_28               0.559        0.278     0.372     0.219   \n",
       "DeepCoil               0.662        0.628     0.645     0.609   \n",
       "Marcoil_10             0.485        0.400     0.439     0.333   \n",
       "Marcoil_50             0.540        0.263     0.354     0.209   \n",
       "Marcoil_90             0.578        0.146     0.233     0.111   \n",
       "Multicoil2             0.610        0.170     0.265     0.098   \n",
       "PCoils_14              0.542        0.239     0.332     0.218   \n",
       "PCoils_14_Toolkit      0.526        0.283     0.368     0.271   \n",
       "PCoils_21              0.523        0.376     0.437     0.310   \n",
       "PCoils_21_Toolkit      0.516        0.387     0.442     0.331   \n",
       "PCoils_28              0.494        0.439     0.465     0.346   \n",
       "PCoils_28_Toolkit      0.495        0.449     0.471     0.359   \n",
       "\n",
       "                   Detected segments  \n",
       "CCHMM_PROF                     0.192  \n",
       "Coils_14                       0.311  \n",
       "Coils_21                       0.259  \n",
       "Coils_28                       0.239  \n",
       "DeepCoil                       0.678  \n",
       "Marcoil_10                     0.358  \n",
       "Marcoil_50                     0.227  \n",
       "Marcoil_90                     0.121  \n",
       "Multicoil2                     0.101  \n",
       "PCoils_14                      0.256  \n",
       "PCoils_14_Toolkit              0.323  \n",
       "PCoils_21                      0.334  \n",
       "PCoils_21_Toolkit              0.360  \n",
       "PCoils_28                      0.376  \n",
       "PCoils_28_Toolkit              0.388  "
      ]
     },
     "execution_count": 17,
     "metadata": {},
     "output_type": "execute_result"
    }
   ],
   "source": [
    "results_li2016"
   ]
  },
  {
   "cell_type": "code",
   "execution_count": null,
   "metadata": {},
   "outputs": [],
   "source": []
  }
 ],
 "metadata": {
  "kernelspec": {
   "display_name": "Python 3",
   "language": "python",
   "name": "python3"
  },
  "language_info": {
   "codemirror_mode": {
    "name": "ipython",
    "version": 3
   },
   "file_extension": ".py",
   "mimetype": "text/x-python",
   "name": "python",
   "nbconvert_exporter": "python",
   "pygments_lexer": "ipython3",
   "version": "3.5.2"
  }
 },
 "nbformat": 4,
 "nbformat_minor": 2
}
