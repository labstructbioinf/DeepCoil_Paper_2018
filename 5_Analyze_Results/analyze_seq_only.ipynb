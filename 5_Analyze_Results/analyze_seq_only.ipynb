{
 "cells": [
  {
   "cell_type": "code",
   "execution_count": 1,
   "metadata": {},
   "outputs": [
    {
     "name": "stderr",
     "output_type": "stream",
     "text": [
      "Using TensorFlow backend.\n"
     ]
    }
   ],
   "source": [
    "import numpy as np\n",
    "import pandas as pd\n",
    "import pickle\n",
    "from lbs.dl.metrics import calc_sov\n",
    "import sklearn.metrics\n",
    "pd.options.display.float_format = '{:,.3f}'.format\n",
    "import re"
   ]
  },
  {
   "cell_type": "code",
   "execution_count": 2,
   "metadata": {},
   "outputs": [],
   "source": [
    "def get_benchmarks(true_column, pred_column):\n",
    "    yt = []\n",
    "    yp = []\n",
    "    sovs = []\n",
    "    for true, pred in zip(true_column.tolist(), pred_column.tolist()):\n",
    "        for match in re.finditer(r\"([%s]+)\" % '1', true):\n",
    "            sovs.append(calc_sov(true[match.start():match.end()], pred[match.start():match.end()]))\n",
    "        for y_true, y_pred in zip(true, pred):\n",
    "            yt.append(y_true)\n",
    "            yp.append(y_pred)\n",
    "    prec = sklearn.metrics.precision_score(yt, yp, pos_label='1')\n",
    "    sens = sklearn.metrics.recall_score(yt, yp, pos_label='1')\n",
    "    f1 = sklearn.metrics.f1_score(yt, yp, pos_label='1')\n",
    "    sovs = np.asarray(sovs)\n",
    "    return(prec, sens, f1, np.mean(sovs), (np.count_nonzero(sovs)/sovs.shape[0]))"
   ]
  },
  {
   "cell_type": "code",
   "execution_count": 3,
   "metadata": {},
   "outputs": [],
   "source": [
    "mapping = {'deepcoil_assignment': 'DeepCoil', 'cchmmprof_assignment': 'CCHMM_PROF', 'marcoil_10_assignment':'Marcoil_10', \n",
    "           'marcoil_50_assignment':'Marcoil_50', 'marcoil_90_assignment':'Marcoil_90', 'pcoils_14_assignment': 'PCoils_14',\n",
    "           'pcoils_21_assignment': 'PCoils_21', 'pcoils_28_assignment': 'PCoils_28'}"
   ]
  },
  {
   "cell_type": "markdown",
   "metadata": {},
   "source": [
    "### Get results from cross-validation"
   ]
  },
  {
   "cell_type": "code",
   "execution_count": 4,
   "metadata": {},
   "outputs": [],
   "source": [
    "df_cv = pickle.load(open('./../4_Train/out/seq/cv_results.p', 'rb'))"
   ]
  },
  {
   "cell_type": "code",
   "execution_count": 5,
   "metadata": {},
   "outputs": [],
   "source": [
    "results = {}\n",
    "variants = ['deepcoil_assignment', 'cchmmprof_assignment', 'marcoil_10_assignment', 'marcoil_50_assignment',\n",
    "            'marcoil_90_assignment', 'pcoils_14_assignment', 'pcoils_21_assignment', 'pcoils_28_assignment']\n",
    "for variant in variants:\n",
    "    results[mapping[variant]] = get_benchmarks(df_cv['socket_assignment'], df_cv[variant])"
   ]
  },
  {
   "cell_type": "code",
   "execution_count": 6,
   "metadata": {},
   "outputs": [],
   "source": [
    "results_cv = pd.DataFrame.from_dict(results, orient='index')\n",
    "results_cv.columns = ['Precision', 'Sensitivity', 'F1 score', 'Mean SOV', 'Detected segments']\n",
    "results_cv.sort_index(inplace=True)"
   ]
  },
  {
   "cell_type": "markdown",
   "metadata": {},
   "source": [
    "### Get results from test set"
   ]
  },
  {
   "cell_type": "code",
   "execution_count": 7,
   "metadata": {},
   "outputs": [],
   "source": [
    "df_test = pickle.load(open('./../4_Train/out/seq/test_results.p', 'rb'))"
   ]
  },
  {
   "cell_type": "code",
   "execution_count": 8,
   "metadata": {},
   "outputs": [],
   "source": [
    "results = {}\n",
    "variants = ['deepcoil_assignment', 'cchmmprof_assignment', 'marcoil_10_assignment', 'marcoil_50_assignment',\n",
    "            'marcoil_90_assignment', 'pcoils_14_assignment', 'pcoils_21_assignment', 'pcoils_28_assignment']\n",
    "for variant in variants:\n",
    "    results[mapping[variant]] = get_benchmarks(df_test['socket_assignment'], df_test[variant])"
   ]
  },
  {
   "cell_type": "code",
   "execution_count": 9,
   "metadata": {},
   "outputs": [],
   "source": [
    "results_test = pd.DataFrame.from_dict(results, orient='index')\n",
    "results_test.columns = ['Precision', 'Sensitivity', 'F1 score', 'Mean SOV', 'Detected segments']\n",
    "results_test.sort_index(inplace=True)"
   ]
  },
  {
   "cell_type": "markdown",
   "metadata": {},
   "source": [
    "### Show results"
   ]
  },
  {
   "cell_type": "markdown",
   "metadata": {},
   "source": [
    "#### Cross-validation"
   ]
  },
  {
   "cell_type": "code",
   "execution_count": 10,
   "metadata": {},
   "outputs": [
    {
     "data": {
      "text/html": [
       "<div>\n",
       "<style>\n",
       "    .dataframe thead tr:only-child th {\n",
       "        text-align: right;\n",
       "    }\n",
       "\n",
       "    .dataframe thead th {\n",
       "        text-align: left;\n",
       "    }\n",
       "\n",
       "    .dataframe tbody tr th {\n",
       "        vertical-align: top;\n",
       "    }\n",
       "</style>\n",
       "<table border=\"1\" class=\"dataframe\">\n",
       "  <thead>\n",
       "    <tr style=\"text-align: right;\">\n",
       "      <th></th>\n",
       "      <th>Precision</th>\n",
       "      <th>Sensitivity</th>\n",
       "      <th>F1 score</th>\n",
       "      <th>Mean SOV</th>\n",
       "      <th>Detected segments</th>\n",
       "    </tr>\n",
       "  </thead>\n",
       "  <tbody>\n",
       "    <tr>\n",
       "      <th>CCHMM_PROF</th>\n",
       "      <td>0.094</td>\n",
       "      <td>0.807</td>\n",
       "      <td>0.168</td>\n",
       "      <td>0.773</td>\n",
       "      <td>0.815</td>\n",
       "    </tr>\n",
       "    <tr>\n",
       "      <th>DeepCoil</th>\n",
       "      <td>0.380</td>\n",
       "      <td>0.497</td>\n",
       "      <td>0.430</td>\n",
       "      <td>0.427</td>\n",
       "      <td>0.567</td>\n",
       "    </tr>\n",
       "    <tr>\n",
       "      <th>Marcoil_10</th>\n",
       "      <td>0.285</td>\n",
       "      <td>0.396</td>\n",
       "      <td>0.331</td>\n",
       "      <td>0.288</td>\n",
       "      <td>0.310</td>\n",
       "    </tr>\n",
       "    <tr>\n",
       "      <th>Marcoil_50</th>\n",
       "      <td>0.395</td>\n",
       "      <td>0.282</td>\n",
       "      <td>0.329</td>\n",
       "      <td>0.188</td>\n",
       "      <td>0.203</td>\n",
       "    </tr>\n",
       "    <tr>\n",
       "      <th>Marcoil_90</th>\n",
       "      <td>0.481</td>\n",
       "      <td>0.189</td>\n",
       "      <td>0.271</td>\n",
       "      <td>0.117</td>\n",
       "      <td>0.127</td>\n",
       "    </tr>\n",
       "    <tr>\n",
       "      <th>PCoils_14</th>\n",
       "      <td>0.377</td>\n",
       "      <td>0.251</td>\n",
       "      <td>0.301</td>\n",
       "      <td>0.201</td>\n",
       "      <td>0.235</td>\n",
       "    </tr>\n",
       "    <tr>\n",
       "      <th>PCoils_21</th>\n",
       "      <td>0.374</td>\n",
       "      <td>0.368</td>\n",
       "      <td>0.371</td>\n",
       "      <td>0.278</td>\n",
       "      <td>0.296</td>\n",
       "    </tr>\n",
       "    <tr>\n",
       "      <th>PCoils_28</th>\n",
       "      <td>0.359</td>\n",
       "      <td>0.402</td>\n",
       "      <td>0.380</td>\n",
       "      <td>0.284</td>\n",
       "      <td>0.302</td>\n",
       "    </tr>\n",
       "  </tbody>\n",
       "</table>\n",
       "</div>"
      ],
      "text/plain": [
       "            Precision  Sensitivity  F1 score  Mean SOV  Detected segments\n",
       "CCHMM_PROF      0.094        0.807     0.168     0.773              0.815\n",
       "DeepCoil        0.380        0.497     0.430     0.427              0.567\n",
       "Marcoil_10      0.285        0.396     0.331     0.288              0.310\n",
       "Marcoil_50      0.395        0.282     0.329     0.188              0.203\n",
       "Marcoil_90      0.481        0.189     0.271     0.117              0.127\n",
       "PCoils_14       0.377        0.251     0.301     0.201              0.235\n",
       "PCoils_21       0.374        0.368     0.371     0.278              0.296\n",
       "PCoils_28       0.359        0.402     0.380     0.284              0.302"
      ]
     },
     "execution_count": 10,
     "metadata": {},
     "output_type": "execute_result"
    }
   ],
   "source": [
    "results_cv"
   ]
  },
  {
   "cell_type": "markdown",
   "metadata": {},
   "source": [
    "#### Test set"
   ]
  },
  {
   "cell_type": "code",
   "execution_count": 11,
   "metadata": {},
   "outputs": [
    {
     "data": {
      "text/html": [
       "<div>\n",
       "<style>\n",
       "    .dataframe thead tr:only-child th {\n",
       "        text-align: right;\n",
       "    }\n",
       "\n",
       "    .dataframe thead th {\n",
       "        text-align: left;\n",
       "    }\n",
       "\n",
       "    .dataframe tbody tr th {\n",
       "        vertical-align: top;\n",
       "    }\n",
       "</style>\n",
       "<table border=\"1\" class=\"dataframe\">\n",
       "  <thead>\n",
       "    <tr style=\"text-align: right;\">\n",
       "      <th></th>\n",
       "      <th>Precision</th>\n",
       "      <th>Sensitivity</th>\n",
       "      <th>F1 score</th>\n",
       "      <th>Mean SOV</th>\n",
       "      <th>Detected segments</th>\n",
       "    </tr>\n",
       "  </thead>\n",
       "  <tbody>\n",
       "    <tr>\n",
       "      <th>CCHMM_PROF</th>\n",
       "      <td>0.078</td>\n",
       "      <td>0.828</td>\n",
       "      <td>0.142</td>\n",
       "      <td>0.803</td>\n",
       "      <td>0.836</td>\n",
       "    </tr>\n",
       "    <tr>\n",
       "      <th>DeepCoil</th>\n",
       "      <td>0.383</td>\n",
       "      <td>0.455</td>\n",
       "      <td>0.416</td>\n",
       "      <td>0.414</td>\n",
       "      <td>0.503</td>\n",
       "    </tr>\n",
       "    <tr>\n",
       "      <th>Marcoil_10</th>\n",
       "      <td>0.285</td>\n",
       "      <td>0.383</td>\n",
       "      <td>0.327</td>\n",
       "      <td>0.285</td>\n",
       "      <td>0.300</td>\n",
       "    </tr>\n",
       "    <tr>\n",
       "      <th>Marcoil_50</th>\n",
       "      <td>0.379</td>\n",
       "      <td>0.259</td>\n",
       "      <td>0.307</td>\n",
       "      <td>0.173</td>\n",
       "      <td>0.190</td>\n",
       "    </tr>\n",
       "    <tr>\n",
       "      <th>Marcoil_90</th>\n",
       "      <td>0.452</td>\n",
       "      <td>0.162</td>\n",
       "      <td>0.238</td>\n",
       "      <td>0.105</td>\n",
       "      <td>0.116</td>\n",
       "    </tr>\n",
       "    <tr>\n",
       "      <th>PCoils_14</th>\n",
       "      <td>0.351</td>\n",
       "      <td>0.237</td>\n",
       "      <td>0.283</td>\n",
       "      <td>0.189</td>\n",
       "      <td>0.230</td>\n",
       "    </tr>\n",
       "    <tr>\n",
       "      <th>PCoils_21</th>\n",
       "      <td>0.350</td>\n",
       "      <td>0.357</td>\n",
       "      <td>0.354</td>\n",
       "      <td>0.270</td>\n",
       "      <td>0.294</td>\n",
       "    </tr>\n",
       "    <tr>\n",
       "      <th>PCoils_28</th>\n",
       "      <td>0.343</td>\n",
       "      <td>0.404</td>\n",
       "      <td>0.371</td>\n",
       "      <td>0.281</td>\n",
       "      <td>0.306</td>\n",
       "    </tr>\n",
       "  </tbody>\n",
       "</table>\n",
       "</div>"
      ],
      "text/plain": [
       "            Precision  Sensitivity  F1 score  Mean SOV  Detected segments\n",
       "CCHMM_PROF      0.078        0.828     0.142     0.803              0.836\n",
       "DeepCoil        0.383        0.455     0.416     0.414              0.503\n",
       "Marcoil_10      0.285        0.383     0.327     0.285              0.300\n",
       "Marcoil_50      0.379        0.259     0.307     0.173              0.190\n",
       "Marcoil_90      0.452        0.162     0.238     0.105              0.116\n",
       "PCoils_14       0.351        0.237     0.283     0.189              0.230\n",
       "PCoils_21       0.350        0.357     0.354     0.270              0.294\n",
       "PCoils_28       0.343        0.404     0.371     0.281              0.306"
      ]
     },
     "execution_count": 11,
     "metadata": {},
     "output_type": "execute_result"
    }
   ],
   "source": [
    "results_test"
   ]
  },
  {
   "cell_type": "code",
   "execution_count": null,
   "metadata": {},
   "outputs": [],
   "source": []
  }
 ],
 "metadata": {
  "kernelspec": {
   "display_name": "Python 3",
   "language": "python",
   "name": "python3"
  },
  "language_info": {
   "codemirror_mode": {
    "name": "ipython",
    "version": 3
   },
   "file_extension": ".py",
   "mimetype": "text/x-python",
   "name": "python",
   "nbconvert_exporter": "python",
   "pygments_lexer": "ipython3",
   "version": "3.5.2"
  }
 },
 "nbformat": 4,
 "nbformat_minor": 2
}
