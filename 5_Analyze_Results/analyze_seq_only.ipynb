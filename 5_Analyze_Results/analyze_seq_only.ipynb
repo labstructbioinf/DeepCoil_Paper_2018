{
 "cells": [
  {
   "cell_type": "code",
   "execution_count": 1,
   "metadata": {},
   "outputs": [
    {
     "name": "stderr",
     "output_type": "stream",
     "text": [
      "Using TensorFlow backend.\n"
     ]
    }
   ],
   "source": [
    "import numpy as np\n",
    "import pandas as pd\n",
    "import pickle\n",
    "from lbs.dl.metrics import calc_sov\n",
    "import sklearn.metrics\n",
    "pd.options.display.float_format = '{:,.3f}'.format\n",
    "import re"
   ]
  },
  {
   "cell_type": "code",
   "execution_count": 2,
   "metadata": {},
   "outputs": [],
   "source": [
    "def get_benchmarks(true_column, pred_column):\n",
    "    yt = []\n",
    "    yp = []\n",
    "    sovs = []\n",
    "    for true, pred in zip(true_column.tolist(), pred_column.tolist()):\n",
    "        for match in re.finditer(r\"([%s]+)\" % '1', true):\n",
    "            sovs.append(calc_sov(true[match.start():match.end()], pred[match.start():match.end()]))\n",
    "        for y_true, y_pred in zip(true, pred):\n",
    "            yt.append(y_true)\n",
    "            yp.append(y_pred)\n",
    "    prec = sklearn.metrics.precision_score(yt, yp, pos_label='1')\n",
    "    sens = sklearn.metrics.recall_score(yt, yp, pos_label='1')\n",
    "    f1 = sklearn.metrics.f1_score(yt, yp, pos_label='1')\n",
    "    sovs = np.asarray(sovs)\n",
    "    return(prec, sens, f1, np.mean(sovs), (np.count_nonzero(sovs)/sovs.shape[0]))"
   ]
  },
  {
   "cell_type": "code",
   "execution_count": 3,
   "metadata": {},
   "outputs": [],
   "source": [
    "mapping = {'deepcoil_assignment': 'DeepCoil', 'cchmmprof_assignment': 'CCHMM_PROF', 'marcoil_10_assignment':'Marcoil_10', \n",
    "           'marcoil_50_assignment':'Marcoil_50', 'marcoil_90_assignment':'Marcoil_90', 'pcoils_14_assignment': 'PCoils_14',\n",
    "           'pcoils_21_assignment': 'PCoils_21', 'pcoils_28_assignment': 'PCoils_28'}"
   ]
  },
  {
   "cell_type": "markdown",
   "metadata": {},
   "source": [
    "### Get results from cross-validation"
   ]
  },
  {
   "cell_type": "code",
   "execution_count": 4,
   "metadata": {},
   "outputs": [],
   "source": [
    "df_cv = pickle.load(open('./../4_Train/out/seq/cv_results.p', 'rb'))"
   ]
  },
  {
   "cell_type": "markdown",
   "metadata": {},
   "source": [
    "#### Update cchmm_prof results"
   ]
  },
  {
   "cell_type": "code",
   "execution_count": 5,
   "metadata": {},
   "outputs": [],
   "source": [
    "del df_cv['cchmmprof_assignment']\n",
    "del df_cv['cchmmprof_cc']\n",
    "df_cchmm_new = pickle.load(open('./../1_Data_Preparation/out/pickle/cchmmprof_all_74.p', 'rb'))\n",
    "df_cv = pd.concat([df_cv, df_cchmm_new], axis=1)\n",
    "df_cv = df_cv[df_cv['cc'].notnull()]"
   ]
  },
  {
   "cell_type": "code",
   "execution_count": 6,
   "metadata": {},
   "outputs": [],
   "source": [
    "results = {}\n",
    "variants = ['deepcoil_assignment', 'cchmmprof_assignment', 'marcoil_10_assignment', 'marcoil_50_assignment',\n",
    "            'marcoil_90_assignment', 'pcoils_14_assignment', 'pcoils_21_assignment', 'pcoils_28_assignment']\n",
    "for variant in variants:\n",
    "    results[mapping[variant]] = get_benchmarks(df_cv['socket_assignment'], df_cv[variant])"
   ]
  },
  {
   "cell_type": "code",
   "execution_count": 7,
   "metadata": {},
   "outputs": [],
   "source": [
    "results_cv = pd.DataFrame.from_dict(results, orient='index')\n",
    "results_cv.columns = ['Precision', 'Sensitivity', 'F1 score', 'Mean SOV', 'Detected segments']\n",
    "results_cv.sort_index(inplace=True)"
   ]
  },
  {
   "cell_type": "markdown",
   "metadata": {},
   "source": [
    "### Get results from test set"
   ]
  },
  {
   "cell_type": "code",
   "execution_count": 8,
   "metadata": {},
   "outputs": [],
   "source": [
    "df_test = pickle.load(open('./../4_Train/out/seq/test_results.p', 'rb'))"
   ]
  },
  {
   "cell_type": "markdown",
   "metadata": {},
   "source": [
    "#### Update cchmm_prof results"
   ]
  },
  {
   "cell_type": "code",
   "execution_count": 9,
   "metadata": {},
   "outputs": [],
   "source": [
    "del df_test['cchmmprof_assignment']\n",
    "del df_test['cchmmprof_cc']\n",
    "df_cchmm_new = pickle.load(open('./../1_Data_Preparation/out/pickle/cchmmprof_all_74.p', 'rb'))\n",
    "df_test = pd.concat([df_test, df_cchmm_new], axis=1)\n",
    "df_test = df_test[df_test['cc'].notnull()]"
   ]
  },
  {
   "cell_type": "code",
   "execution_count": 10,
   "metadata": {},
   "outputs": [],
   "source": [
    "results = {}\n",
    "variants = ['deepcoil_assignment', 'cchmmprof_assignment', 'marcoil_10_assignment', 'marcoil_50_assignment',\n",
    "            'marcoil_90_assignment', 'pcoils_14_assignment', 'pcoils_21_assignment', 'pcoils_28_assignment']\n",
    "for variant in variants:\n",
    "    results[mapping[variant]] = get_benchmarks(df_test['socket_assignment'], df_test[variant])"
   ]
  },
  {
   "cell_type": "code",
   "execution_count": 11,
   "metadata": {},
   "outputs": [],
   "source": [
    "results_test = pd.DataFrame.from_dict(results, orient='index')\n",
    "results_test.columns = ['Precision', 'Sensitivity', 'F1 score', 'Mean SOV', 'Detected segments']\n",
    "results_test.sort_index(inplace=True)"
   ]
  },
  {
   "cell_type": "markdown",
   "metadata": {},
   "source": [
    "### Show results"
   ]
  },
  {
   "cell_type": "markdown",
   "metadata": {},
   "source": [
    "#### Cross-validation"
   ]
  },
  {
   "cell_type": "code",
   "execution_count": 12,
   "metadata": {},
   "outputs": [
    {
     "data": {
      "text/html": [
       "<div>\n",
       "<style>\n",
       "    .dataframe thead tr:only-child th {\n",
       "        text-align: right;\n",
       "    }\n",
       "\n",
       "    .dataframe thead th {\n",
       "        text-align: left;\n",
       "    }\n",
       "\n",
       "    .dataframe tbody tr th {\n",
       "        vertical-align: top;\n",
       "    }\n",
       "</style>\n",
       "<table border=\"1\" class=\"dataframe\">\n",
       "  <thead>\n",
       "    <tr style=\"text-align: right;\">\n",
       "      <th></th>\n",
       "      <th>Precision</th>\n",
       "      <th>Sensitivity</th>\n",
       "      <th>F1 score</th>\n",
       "      <th>Mean SOV</th>\n",
       "      <th>Detected segments</th>\n",
       "    </tr>\n",
       "  </thead>\n",
       "  <tbody>\n",
       "    <tr>\n",
       "      <th>CCHMM_PROF</th>\n",
       "      <td>0.375</td>\n",
       "      <td>0.232</td>\n",
       "      <td>0.287</td>\n",
       "      <td>0.154</td>\n",
       "      <td>0.155</td>\n",
       "    </tr>\n",
       "    <tr>\n",
       "      <th>DeepCoil</th>\n",
       "      <td>0.384</td>\n",
       "      <td>0.499</td>\n",
       "      <td>0.434</td>\n",
       "      <td>0.447</td>\n",
       "      <td>0.585</td>\n",
       "    </tr>\n",
       "    <tr>\n",
       "      <th>Marcoil_10</th>\n",
       "      <td>0.303</td>\n",
       "      <td>0.377</td>\n",
       "      <td>0.336</td>\n",
       "      <td>0.280</td>\n",
       "      <td>0.303</td>\n",
       "    </tr>\n",
       "    <tr>\n",
       "      <th>Marcoil_50</th>\n",
       "      <td>0.415</td>\n",
       "      <td>0.267</td>\n",
       "      <td>0.325</td>\n",
       "      <td>0.181</td>\n",
       "      <td>0.198</td>\n",
       "    </tr>\n",
       "    <tr>\n",
       "      <th>Marcoil_90</th>\n",
       "      <td>0.499</td>\n",
       "      <td>0.179</td>\n",
       "      <td>0.263</td>\n",
       "      <td>0.113</td>\n",
       "      <td>0.125</td>\n",
       "    </tr>\n",
       "    <tr>\n",
       "      <th>PCoils_14</th>\n",
       "      <td>0.399</td>\n",
       "      <td>0.240</td>\n",
       "      <td>0.300</td>\n",
       "      <td>0.195</td>\n",
       "      <td>0.229</td>\n",
       "    </tr>\n",
       "    <tr>\n",
       "      <th>PCoils_21</th>\n",
       "      <td>0.397</td>\n",
       "      <td>0.351</td>\n",
       "      <td>0.373</td>\n",
       "      <td>0.270</td>\n",
       "      <td>0.290</td>\n",
       "    </tr>\n",
       "    <tr>\n",
       "      <th>PCoils_28</th>\n",
       "      <td>0.379</td>\n",
       "      <td>0.381</td>\n",
       "      <td>0.380</td>\n",
       "      <td>0.275</td>\n",
       "      <td>0.294</td>\n",
       "    </tr>\n",
       "  </tbody>\n",
       "</table>\n",
       "</div>"
      ],
      "text/plain": [
       "            Precision  Sensitivity  F1 score  Mean SOV  Detected segments\n",
       "CCHMM_PROF      0.375        0.232     0.287     0.154              0.155\n",
       "DeepCoil        0.384        0.499     0.434     0.447              0.585\n",
       "Marcoil_10      0.303        0.377     0.336     0.280              0.303\n",
       "Marcoil_50      0.415        0.267     0.325     0.181              0.198\n",
       "Marcoil_90      0.499        0.179     0.263     0.113              0.125\n",
       "PCoils_14       0.399        0.240     0.300     0.195              0.229\n",
       "PCoils_21       0.397        0.351     0.373     0.270              0.290\n",
       "PCoils_28       0.379        0.381     0.380     0.275              0.294"
      ]
     },
     "execution_count": 12,
     "metadata": {},
     "output_type": "execute_result"
    }
   ],
   "source": [
    "results_cv"
   ]
  },
  {
   "cell_type": "markdown",
   "metadata": {},
   "source": [
    "#### Test set"
   ]
  },
  {
   "cell_type": "code",
   "execution_count": 13,
   "metadata": {},
   "outputs": [
    {
     "data": {
      "text/html": [
       "<div>\n",
       "<style>\n",
       "    .dataframe thead tr:only-child th {\n",
       "        text-align: right;\n",
       "    }\n",
       "\n",
       "    .dataframe thead th {\n",
       "        text-align: left;\n",
       "    }\n",
       "\n",
       "    .dataframe tbody tr th {\n",
       "        vertical-align: top;\n",
       "    }\n",
       "</style>\n",
       "<table border=\"1\" class=\"dataframe\">\n",
       "  <thead>\n",
       "    <tr style=\"text-align: right;\">\n",
       "      <th></th>\n",
       "      <th>Precision</th>\n",
       "      <th>Sensitivity</th>\n",
       "      <th>F1 score</th>\n",
       "      <th>Mean SOV</th>\n",
       "      <th>Detected segments</th>\n",
       "    </tr>\n",
       "  </thead>\n",
       "  <tbody>\n",
       "    <tr>\n",
       "      <th>CCHMM_PROF</th>\n",
       "      <td>0.290</td>\n",
       "      <td>0.301</td>\n",
       "      <td>0.295</td>\n",
       "      <td>0.216</td>\n",
       "      <td>0.217</td>\n",
       "    </tr>\n",
       "    <tr>\n",
       "      <th>DeepCoil</th>\n",
       "      <td>0.388</td>\n",
       "      <td>0.488</td>\n",
       "      <td>0.432</td>\n",
       "      <td>0.428</td>\n",
       "      <td>0.523</td>\n",
       "    </tr>\n",
       "    <tr>\n",
       "      <th>Marcoil_10</th>\n",
       "      <td>0.306</td>\n",
       "      <td>0.414</td>\n",
       "      <td>0.352</td>\n",
       "      <td>0.306</td>\n",
       "      <td>0.333</td>\n",
       "    </tr>\n",
       "    <tr>\n",
       "      <th>Marcoil_50</th>\n",
       "      <td>0.394</td>\n",
       "      <td>0.275</td>\n",
       "      <td>0.324</td>\n",
       "      <td>0.192</td>\n",
       "      <td>0.213</td>\n",
       "    </tr>\n",
       "    <tr>\n",
       "      <th>Marcoil_90</th>\n",
       "      <td>0.473</td>\n",
       "      <td>0.170</td>\n",
       "      <td>0.251</td>\n",
       "      <td>0.107</td>\n",
       "      <td>0.122</td>\n",
       "    </tr>\n",
       "    <tr>\n",
       "      <th>PCoils_14</th>\n",
       "      <td>0.394</td>\n",
       "      <td>0.256</td>\n",
       "      <td>0.310</td>\n",
       "      <td>0.208</td>\n",
       "      <td>0.244</td>\n",
       "    </tr>\n",
       "    <tr>\n",
       "      <th>PCoils_21</th>\n",
       "      <td>0.386</td>\n",
       "      <td>0.376</td>\n",
       "      <td>0.381</td>\n",
       "      <td>0.285</td>\n",
       "      <td>0.302</td>\n",
       "    </tr>\n",
       "    <tr>\n",
       "      <th>PCoils_28</th>\n",
       "      <td>0.383</td>\n",
       "      <td>0.454</td>\n",
       "      <td>0.416</td>\n",
       "      <td>0.312</td>\n",
       "      <td>0.339</td>\n",
       "    </tr>\n",
       "  </tbody>\n",
       "</table>\n",
       "</div>"
      ],
      "text/plain": [
       "            Precision  Sensitivity  F1 score  Mean SOV  Detected segments\n",
       "CCHMM_PROF      0.290        0.301     0.295     0.216              0.217\n",
       "DeepCoil        0.388        0.488     0.432     0.428              0.523\n",
       "Marcoil_10      0.306        0.414     0.352     0.306              0.333\n",
       "Marcoil_50      0.394        0.275     0.324     0.192              0.213\n",
       "Marcoil_90      0.473        0.170     0.251     0.107              0.122\n",
       "PCoils_14       0.394        0.256     0.310     0.208              0.244\n",
       "PCoils_21       0.386        0.376     0.381     0.285              0.302\n",
       "PCoils_28       0.383        0.454     0.416     0.312              0.339"
      ]
     },
     "execution_count": 13,
     "metadata": {},
     "output_type": "execute_result"
    }
   ],
   "source": [
    "results_test"
   ]
  },
  {
   "cell_type": "code",
   "execution_count": null,
   "metadata": {},
   "outputs": [],
   "source": []
  }
 ],
 "metadata": {
  "kernelspec": {
   "display_name": "Python 3",
   "language": "python",
   "name": "python3"
  },
  "language_info": {
   "codemirror_mode": {
    "name": "ipython",
    "version": 3
   },
   "file_extension": ".py",
   "mimetype": "text/x-python",
   "name": "python",
   "nbconvert_exporter": "python",
   "pygments_lexer": "ipython3",
   "version": "3.5.2"
  }
 },
 "nbformat": 4,
 "nbformat_minor": 2
}
